{
 "cells": [
  {
   "cell_type": "markdown",
   "metadata": {
    "id": "upw6q62C5Bp2"
   },
   "source": [
    "# Six Shapes Classification with Machine Learning (TFJs)\n",
    "\n",
    "- Repository : https://github.com/reevald/MathEdu\n",
    "- Dataset : https://github.com/reevald/MathEdu/raw/main/dataset/six-shapes-dataset-v2.zip"
   ]
  },
  {
   "cell_type": "markdown",
   "metadata": {
    "id": "EvmTldEA5Vh2"
   },
   "source": [
    "## Import Libraries"
   ]
  },
  {
   "cell_type": "code",
   "execution_count": null,
   "metadata": {
    "id": "9cDT15-w6wDm"
   },
   "outputs": [],
   "source": [
    "import zipfile\n",
    "import os\n",
    "import random\n",
    "import math\n",
    "import shutil\n",
    "import tensorflow as tf\n",
    "import matplotlib.pyplot as plt\n",
    "import matplotlib.image as mpimg\n",
    "import numpy as np\n",
    "import pandas as pd\n",
    "import seaborn as sn\n",
    "from sklearn import metrics\n",
    "from google.colab import files\n",
    "from shutil import copyfile\n",
    "from tensorflow.keras.preprocessing.image import ImageDataGenerator"
   ]
  },
  {
   "cell_type": "code",
   "execution_count": null,
   "metadata": {
    "colab": {
     "base_uri": "https://localhost:8080/"
    },
    "id": "l2hlAXEM5ZPo",
    "outputId": "82051227-a61e-47d6-86ce-63de91fac2cb"
   },
   "outputs": [
    {
     "name": "stdout",
     "output_type": "stream",
     "text": [
      "Collecting tensorflowjs\n",
      "  Downloading tensorflowjs-3.9.0-py3-none-any.whl (64 kB)\n",
      "\u001b[K     |████████████████████████████████| 64 kB 1.9 MB/s eta 0:00:011\n",
      "\u001b[?25hRequirement already satisfied: six<2,>=1.12.0 in /usr/local/lib/python3.7/dist-packages (from tensorflowjs) (1.15.0)\n",
      "Requirement already satisfied: tensorflow<3,>=2.1.0 in /usr/local/lib/python3.7/dist-packages (from tensorflowjs) (2.6.0)\n",
      "Requirement already satisfied: tensorflow-hub<0.13,>=0.7.0 in /usr/local/lib/python3.7/dist-packages (from tensorflowjs) (0.12.0)\n",
      "Requirement already satisfied: gast==0.4.0 in /usr/local/lib/python3.7/dist-packages (from tensorflow<3,>=2.1.0->tensorflowjs) (0.4.0)\n",
      "Requirement already satisfied: h5py~=3.1.0 in /usr/local/lib/python3.7/dist-packages (from tensorflow<3,>=2.1.0->tensorflowjs) (3.1.0)\n",
      "Requirement already satisfied: grpcio<2.0,>=1.37.0 in /usr/local/lib/python3.7/dist-packages (from tensorflow<3,>=2.1.0->tensorflowjs) (1.39.0)\n",
      "Requirement already satisfied: termcolor~=1.1.0 in /usr/local/lib/python3.7/dist-packages (from tensorflow<3,>=2.1.0->tensorflowjs) (1.1.0)\n",
      "Requirement already satisfied: opt-einsum~=3.3.0 in /usr/local/lib/python3.7/dist-packages (from tensorflow<3,>=2.1.0->tensorflowjs) (3.3.0)\n",
      "Requirement already satisfied: keras~=2.6 in /usr/local/lib/python3.7/dist-packages (from tensorflow<3,>=2.1.0->tensorflowjs) (2.6.0)\n",
      "Requirement already satisfied: flatbuffers~=1.12.0 in /usr/local/lib/python3.7/dist-packages (from tensorflow<3,>=2.1.0->tensorflowjs) (1.12)\n",
      "Requirement already satisfied: wrapt~=1.12.1 in /usr/local/lib/python3.7/dist-packages (from tensorflow<3,>=2.1.0->tensorflowjs) (1.12.1)\n",
      "Requirement already satisfied: absl-py~=0.10 in /usr/local/lib/python3.7/dist-packages (from tensorflow<3,>=2.1.0->tensorflowjs) (0.12.0)\n",
      "Requirement already satisfied: clang~=5.0 in /usr/local/lib/python3.7/dist-packages (from tensorflow<3,>=2.1.0->tensorflowjs) (5.0)\n",
      "Requirement already satisfied: wheel~=0.35 in /usr/local/lib/python3.7/dist-packages (from tensorflow<3,>=2.1.0->tensorflowjs) (0.37.0)\n",
      "Requirement already satisfied: protobuf>=3.9.2 in /usr/local/lib/python3.7/dist-packages (from tensorflow<3,>=2.1.0->tensorflowjs) (3.17.3)\n",
      "Requirement already satisfied: tensorboard~=2.6 in /usr/local/lib/python3.7/dist-packages (from tensorflow<3,>=2.1.0->tensorflowjs) (2.6.0)\n",
      "Requirement already satisfied: tensorflow-estimator~=2.6 in /usr/local/lib/python3.7/dist-packages (from tensorflow<3,>=2.1.0->tensorflowjs) (2.6.0)\n",
      "Requirement already satisfied: numpy~=1.19.2 in /usr/local/lib/python3.7/dist-packages (from tensorflow<3,>=2.1.0->tensorflowjs) (1.19.5)\n",
      "Requirement already satisfied: google-pasta~=0.2 in /usr/local/lib/python3.7/dist-packages (from tensorflow<3,>=2.1.0->tensorflowjs) (0.2.0)\n",
      "Requirement already satisfied: keras-preprocessing~=1.1.2 in /usr/local/lib/python3.7/dist-packages (from tensorflow<3,>=2.1.0->tensorflowjs) (1.1.2)\n",
      "Requirement already satisfied: astunparse~=1.6.3 in /usr/local/lib/python3.7/dist-packages (from tensorflow<3,>=2.1.0->tensorflowjs) (1.6.3)\n",
      "Requirement already satisfied: typing-extensions~=3.7.4 in /usr/local/lib/python3.7/dist-packages (from tensorflow<3,>=2.1.0->tensorflowjs) (3.7.4.3)\n",
      "Requirement already satisfied: cached-property in /usr/local/lib/python3.7/dist-packages (from h5py~=3.1.0->tensorflow<3,>=2.1.0->tensorflowjs) (1.5.2)\n",
      "Requirement already satisfied: tensorboard-plugin-wit>=1.6.0 in /usr/local/lib/python3.7/dist-packages (from tensorboard~=2.6->tensorflow<3,>=2.1.0->tensorflowjs) (1.8.0)\n",
      "Requirement already satisfied: werkzeug>=0.11.15 in /usr/local/lib/python3.7/dist-packages (from tensorboard~=2.6->tensorflow<3,>=2.1.0->tensorflowjs) (1.0.1)\n",
      "Requirement already satisfied: requests<3,>=2.21.0 in /usr/local/lib/python3.7/dist-packages (from tensorboard~=2.6->tensorflow<3,>=2.1.0->tensorflowjs) (2.23.0)\n",
      "Requirement already satisfied: setuptools>=41.0.0 in /usr/local/lib/python3.7/dist-packages (from tensorboard~=2.6->tensorflow<3,>=2.1.0->tensorflowjs) (57.4.0)\n",
      "Requirement already satisfied: markdown>=2.6.8 in /usr/local/lib/python3.7/dist-packages (from tensorboard~=2.6->tensorflow<3,>=2.1.0->tensorflowjs) (3.3.4)\n",
      "Requirement already satisfied: google-auth-oauthlib<0.5,>=0.4.1 in /usr/local/lib/python3.7/dist-packages (from tensorboard~=2.6->tensorflow<3,>=2.1.0->tensorflowjs) (0.4.5)\n",
      "Requirement already satisfied: tensorboard-data-server<0.7.0,>=0.6.0 in /usr/local/lib/python3.7/dist-packages (from tensorboard~=2.6->tensorflow<3,>=2.1.0->tensorflowjs) (0.6.1)\n",
      "Requirement already satisfied: google-auth<2,>=1.6.3 in /usr/local/lib/python3.7/dist-packages (from tensorboard~=2.6->tensorflow<3,>=2.1.0->tensorflowjs) (1.34.0)\n",
      "Requirement already satisfied: rsa<5,>=3.1.4 in /usr/local/lib/python3.7/dist-packages (from google-auth<2,>=1.6.3->tensorboard~=2.6->tensorflow<3,>=2.1.0->tensorflowjs) (4.7.2)\n",
      "Requirement already satisfied: pyasn1-modules>=0.2.1 in /usr/local/lib/python3.7/dist-packages (from google-auth<2,>=1.6.3->tensorboard~=2.6->tensorflow<3,>=2.1.0->tensorflowjs) (0.2.8)\n",
      "Requirement already satisfied: cachetools<5.0,>=2.0.0 in /usr/local/lib/python3.7/dist-packages (from google-auth<2,>=1.6.3->tensorboard~=2.6->tensorflow<3,>=2.1.0->tensorflowjs) (4.2.2)\n",
      "Requirement already satisfied: requests-oauthlib>=0.7.0 in /usr/local/lib/python3.7/dist-packages (from google-auth-oauthlib<0.5,>=0.4.1->tensorboard~=2.6->tensorflow<3,>=2.1.0->tensorflowjs) (1.3.0)\n",
      "Requirement already satisfied: importlib-metadata in /usr/local/lib/python3.7/dist-packages (from markdown>=2.6.8->tensorboard~=2.6->tensorflow<3,>=2.1.0->tensorflowjs) (4.6.4)\n",
      "Requirement already satisfied: pyasn1<0.5.0,>=0.4.6 in /usr/local/lib/python3.7/dist-packages (from pyasn1-modules>=0.2.1->google-auth<2,>=1.6.3->tensorboard~=2.6->tensorflow<3,>=2.1.0->tensorflowjs) (0.4.8)\n",
      "Requirement already satisfied: chardet<4,>=3.0.2 in /usr/local/lib/python3.7/dist-packages (from requests<3,>=2.21.0->tensorboard~=2.6->tensorflow<3,>=2.1.0->tensorflowjs) (3.0.4)\n",
      "Requirement already satisfied: urllib3!=1.25.0,!=1.25.1,<1.26,>=1.21.1 in /usr/local/lib/python3.7/dist-packages (from requests<3,>=2.21.0->tensorboard~=2.6->tensorflow<3,>=2.1.0->tensorflowjs) (1.24.3)\n",
      "Requirement already satisfied: certifi>=2017.4.17 in /usr/local/lib/python3.7/dist-packages (from requests<3,>=2.21.0->tensorboard~=2.6->tensorflow<3,>=2.1.0->tensorflowjs) (2021.5.30)\n",
      "Requirement already satisfied: idna<3,>=2.5 in /usr/local/lib/python3.7/dist-packages (from requests<3,>=2.21.0->tensorboard~=2.6->tensorflow<3,>=2.1.0->tensorflowjs) (2.10)\n",
      "Requirement already satisfied: oauthlib>=3.0.0 in /usr/local/lib/python3.7/dist-packages (from requests-oauthlib>=0.7.0->google-auth-oauthlib<0.5,>=0.4.1->tensorboard~=2.6->tensorflow<3,>=2.1.0->tensorflowjs) (3.1.1)\n",
      "Requirement already satisfied: zipp>=0.5 in /usr/local/lib/python3.7/dist-packages (from importlib-metadata->markdown>=2.6.8->tensorboard~=2.6->tensorflow<3,>=2.1.0->tensorflowjs) (3.5.0)\n",
      "Installing collected packages: tensorflowjs\n",
      "Successfully installed tensorflowjs-3.9.0\n"
     ]
    }
   ],
   "source": [
    "!pip install tensorflowjs"
   ]
  },
  {
   "cell_type": "markdown",
   "metadata": {
    "id": "tKvySucS5kxF"
   },
   "source": [
    "## Preparation Data with ETL (Extract, Transform, Load)"
   ]
  },
  {
   "cell_type": "markdown",
   "metadata": {
    "id": "q7NWf_O86M5d"
   },
   "source": [
    "### Extract Dataset"
   ]
  },
  {
   "cell_type": "code",
   "execution_count": 1,
   "metadata": {
    "colab": {
     "base_uri": "https://localhost:8080/"
    },
    "id": "ErI_r12X5d4_",
    "outputId": "b7023ee3-0b29-466d-8a8f-7810a80308eb"
   },
   "outputs": [
    {
     "name": "stdout",
     "output_type": "stream",
     "text": [
      "--2021-09-03 11:33:17--  https://github.com/reevald/MathEdu/raw/main/dataset/six-shapes-dataset-v2.zip\n",
      "Resolving github.com (github.com)... 192.30.255.113\n",
      "Connecting to github.com (github.com)|192.30.255.113|:443... connected.\n",
      "HTTP request sent, awaiting response... 302 Found\n",
      "Location: https://raw.githubusercontent.com/reevald/MathEdu/main/dataset/six-shapes-dataset-v2.zip [following]\n",
      "--2021-09-03 11:33:17--  https://raw.githubusercontent.com/reevald/MathEdu/main/dataset/six-shapes-dataset-v2.zip\n",
      "Resolving raw.githubusercontent.com (raw.githubusercontent.com)... 185.199.109.133, 185.199.108.133, 185.199.110.133, ...\n",
      "Connecting to raw.githubusercontent.com (raw.githubusercontent.com)|185.199.109.133|:443... connected.\n",
      "HTTP request sent, awaiting response... 200 OK\n",
      "Length: 34834011 (33M) [application/zip]\n",
      "Saving to: ‘/tmp/six-shapes-dataset-v2.zip’\n",
      "\n",
      "/tmp/six-shapes-dat 100%[===================>]  33.22M   162MB/s    in 0.2s    \n",
      "\n",
      "2021-09-03 11:33:18 (162 MB/s) - ‘/tmp/six-shapes-dataset-v2.zip’ saved [34834011/34834011]\n",
      "\n"
     ]
    }
   ],
   "source": [
    "# Downloading the dataset\n",
    "!wget --no-check-certificate \\\n",
    "  https://github.com/reevald/MathEdu/raw/main/dataset/six-shapes-dataset-v2.zip \\\n",
    "  -O /tmp/six-shapes-dataset-v2.zip"
   ]
  },
  {
   "cell_type": "code",
   "execution_count": null,
   "metadata": {
    "id": "8WIwewwC6oKW"
   },
   "outputs": [],
   "source": [
    "# Extract the downloaded zip file\n",
    "local_zip = '/tmp/six-shapes-dataset-v2.zip'\n",
    "zip_ref = zipfile.ZipFile(local_zip, 'r')\n",
    "zip_ref.extractall('/tmp/')\n",
    "zip_ref.close()"
   ]
  },
  {
   "cell_type": "code",
   "execution_count": null,
   "metadata": {
    "colab": {
     "base_uri": "https://localhost:8080/"
    },
    "id": "ClXQ5Y4u7kKV",
    "outputId": "d0eedaad-aacb-4aa0-c6a9-f7a6c33af5d8"
   },
   "outputs": [
    {
     "name": "stdout",
     "output_type": "stream",
     "text": [
      "circle : train(3000), test(500), val(500)\n",
      "kite : train(3000), test(500), val(500)\n",
      "parallelogram : train(3000), test(500), val(500)\n",
      "square : train(3000), test(500), val(500)\n",
      "trapezoid : train(3000), test(500), val(500)\n",
      "triangle : train(3000), test(500), val(500)\n"
     ]
    }
   ],
   "source": [
    "# Check dataset directory\n",
    "base_dir = '/tmp/six-shapes'\n",
    "train_dir = os.path.join(base_dir, 'train')\n",
    "val_dir = os.path.join(base_dir, 'val')\n",
    "test_dir = os.path.join(base_dir, 'test')\n",
    "\n",
    "label = [\n",
    "  'circle',\n",
    "  'kite',\n",
    "  'parallelogram',\n",
    "  'square',\n",
    "  'trapezoid',\n",
    "  'triangle'\n",
    "]\n",
    "\n",
    "for lb in label:\n",
    "  print(\"{} : train({}), test({}), val({})\".format(\n",
    "      lb,\n",
    "      len(os.listdir(os.path.join(train_dir, lb))),\n",
    "      len(os.listdir(os.path.join(test_dir, lb))),\n",
    "      len(os.listdir(os.path.join(val_dir, lb)))\n",
    "  ))"
   ]
  },
  {
   "cell_type": "markdown",
   "metadata": {
    "id": "KvJmb4HK976z"
   },
   "source": [
    "### Transform Dataset\n",
    "Reference for batch size, epoch, and learning rate :  \n",
    "https://medium.com/mini-distill/effect-of-batch-size-on-training-dynamics-21c14f7a716e  "
   ]
  },
  {
   "cell_type": "code",
   "execution_count": null,
   "metadata": {
    "id": "HaTP3axV-D_x"
   },
   "outputs": [],
   "source": [
    "# Corresponds to a lot of data\n",
    "batch_train = 32\n",
    "batch_val = 16\n",
    "batch_test = 16\n",
    "size_input = (224, 224)"
   ]
  },
  {
   "cell_type": "markdown",
   "metadata": {
    "id": "a_7n0MiF8rMN"
   },
   "source": [
    "#### Augmentation"
   ]
  },
  {
   "cell_type": "code",
   "execution_count": null,
   "metadata": {
    "id": "Gz6WICbfIBKa"
   },
   "outputs": [],
   "source": [
    "# Normalize\n",
    "train_datagen = ImageDataGenerator(\n",
    "    rescale=1./255.,\n",
    "    rotation_range=20,\n",
    "    width_shift_range=0.2,\n",
    "    height_shift_range=0.2,\n",
    "    shear_range=0.2,\n",
    "    zoom_range=0.2,\n",
    "    horizontal_flip=True,\n",
    "    fill_mode='nearest'\n",
    ")\n",
    "val_datagen = ImageDataGenerator(rescale=1./255.)\n",
    "test_datagen = ImageDataGenerator(rescale=1./255.)"
   ]
  },
  {
   "cell_type": "markdown",
   "metadata": {
    "id": "cIm9N_W_NvaE"
   },
   "source": [
    "### Load Dataset"
   ]
  },
  {
   "cell_type": "code",
   "execution_count": null,
   "metadata": {
    "colab": {
     "base_uri": "https://localhost:8080/"
    },
    "id": "uUNIx3nRMbZL",
    "outputId": "e5f83047-5317-4487-b34d-f10e98a3d22b"
   },
   "outputs": [
    {
     "name": "stdout",
     "output_type": "stream",
     "text": [
      "Found 18000 images belonging to 6 classes.\n",
      "Found 3000 images belonging to 6 classes.\n",
      "Found 3000 images belonging to 6 classes.\n"
     ]
    }
   ],
   "source": [
    "train_generator = train_datagen.flow_from_directory(\n",
    "    directory=train_dir,\n",
    "    batch_size=batch_train,\n",
    "    class_mode='categorical',\n",
    "    target_size=size_input\n",
    ")\n",
    "\n",
    "val_generator = val_datagen.flow_from_directory(\n",
    "    directory=val_dir,\n",
    "    batch_size=batch_val,\n",
    "    class_mode='categorical',\n",
    "    target_size=size_input\n",
    ")\n",
    "\n",
    "test_generator = test_datagen.flow_from_directory(\n",
    "    directory=test_dir,\n",
    "    batch_size=batch_test,\n",
    "    class_mode='categorical',\n",
    "    target_size=size_input\n",
    ")"
   ]
  },
  {
   "cell_type": "markdown",
   "metadata": {
    "id": "U2280y3pNm6K"
   },
   "source": [
    "#### Visualize Data\n"
   ]
  },
  {
   "cell_type": "code",
   "execution_count": null,
   "metadata": {
    "colab": {
     "base_uri": "https://localhost:8080/",
     "height": 313
    },
    "id": "IDG6dSTGNjA4",
    "outputId": "cd134b6c-ae11-40f8-ed2a-dfa6a22f1d23"
   },
   "outputs": [
    {
     "data": {
      "image/png": "[encoded data removed]",
      "text/plain": [
       "<Figure size 864x129.6 with 32 Axes>"
      ]
     },
     "metadata": {},
     "output_type": "display_data"
    },
    {
     "data": {
      "image/png": "[encoded data removed]",
      "text/plain": [
       "<Figure size 864x129.6 with 16 Axes>"
      ]
     },
     "metadata": {},
     "output_type": "display_data"
    },
    {
     "data": {
      "image/png": "[encoded data removed]",
      "text/plain": [
       "<Figure size 864x129.6 with 16 Axes>"
      ]
     },
     "metadata": {},
     "output_type": "display_data"
    }
   ],
   "source": [
    "# Take a sample batch file\n",
    "idx_train = random.randrange(len(train_generator))\n",
    "idx_val = random.randrange(len(val_generator))\n",
    "idx_test = random.randrange(len(test_generator))\n",
    "\n",
    "# Displays an image with label for the train, test and val generator\n",
    "list_train_img, list_train_lb = train_generator[idx_train]\n",
    "list_val_img, list_val_lb = val_generator[idx_val]\n",
    "list_test_img, list_test_lb = val_generator[idx_test]\n",
    "\n",
    "# The number of images must be less than or equal to the batch size\n",
    "def show_img_horizontal(title, color, list_img, list_lb, num_img):\n",
    "  fig = plt.figure(figsize=(12,1.8), facecolor=color)\n",
    "  fig.suptitle(title, fontsize='x-large')\n",
    "  axs = fig.subplots(1, num_img)\n",
    "  fig.subplots_adjust(left=0, bottom=0, right=1, top=1, wspace=0, hspace=0)\n",
    "  for i in range(num_img):\n",
    "    axs[i].imshow(list_img[i])\n",
    "    axs[i].axis('off')\n",
    "    axs[i].title.set_text(np.argmax(list_lb[i]))\n",
    "\n",
    "# Show image in train generator\n",
    "show_img_horizontal(\n",
    "    'Sample Batch in Train Generator',\n",
    "    'palegreen',\n",
    "    list_train_img,\n",
    "    list_train_lb,\n",
    "    batch_train\n",
    ")\n",
    "\n",
    "# Show image in val generator\n",
    "show_img_horizontal(\n",
    "    'Sample Batch in Val Generator',\n",
    "    'springgreen',\n",
    "    list_val_img,\n",
    "    list_val_lb,\n",
    "    batch_val\n",
    ")\n",
    "\n",
    "# Show image in test generator\n",
    "show_img_horizontal(\n",
    "    'Sample Batch in Test Generator',\n",
    "    'mediumspringgreen',\n",
    "    list_test_img,\n",
    "    list_test_lb,\n",
    "    batch_test\n",
    ")"
   ]
  },
  {
   "cell_type": "markdown",
   "metadata": {
    "id": "lp2zmmZnOWib"
   },
   "source": [
    "<table>\n",
    "  <tr>\n",
    "    <th colspan=\"6\">Label Code</th>\n",
    "  </tr>\n",
    "  <tr align=\"center\">\n",
    "    <td>0</td>\n",
    "    <td>1</td>\n",
    "    <td>2</td>\n",
    "    <td>3</td>\n",
    "    <td>4</td>\n",
    "    <td>5</td>\n",
    "  </tr>\n",
    "  <tr>\n",
    "    <td>Circle</td>\n",
    "    <td>Kite</td>\n",
    "    <td>Parallelogram</td>\n",
    "    <td>Square</td>\n",
    "    <td>Trapezoid</td>\n",
    "    <td>Triangle</td>\n",
    "  </tr>\n",
    "</table>"
   ]
  },
  {
   "cell_type": "markdown",
   "metadata": {
    "id": "q0xAbu8OPn45"
   },
   "source": [
    "## Define Model with Basic CNN and DNN"
   ]
  },
  {
   "cell_type": "code",
   "execution_count": null,
   "metadata": {
    "colab": {
     "base_uri": "https://localhost:8080/"
    },
    "id": "H1wp_ie2d0yc",
    "outputId": "58abc859-702a-4beb-b677-801da147892a"
   },
   "outputs": [
    {
     "name": "stdout",
     "output_type": "stream",
     "text": [
      "Model: \"sequential_8\"\n",
      "_________________________________________________________________\n",
      "Layer (type)                 Output Shape              Param #   \n",
      "=================================================================\n",
      "conv2d_27 (Conv2D)           (None, 220, 220, 8)       608       \n",
      "_________________________________________________________________\n",
      "max_pooling2d_26 (MaxPooling (None, 110, 110, 8)       0         \n",
      "_________________________________________________________________\n",
      "conv2d_28 (Conv2D)           (None, 106, 106, 16)      3216      \n",
      "_________________________________________________________________\n",
      "max_pooling2d_27 (MaxPooling (None, 53, 53, 16)        0         \n",
      "_________________________________________________________________\n",
      "conv2d_29 (Conv2D)           (None, 49, 49, 32)        12832     \n",
      "_________________________________________________________________\n",
      "max_pooling2d_28 (MaxPooling (None, 24, 24, 32)        0         \n",
      "_________________________________________________________________\n",
      "conv2d_30 (Conv2D)           (None, 22, 22, 64)        18496     \n",
      "_________________________________________________________________\n",
      "max_pooling2d_29 (MaxPooling (None, 11, 11, 64)        0         \n",
      "_________________________________________________________________\n",
      "flatten_8 (Flatten)          (None, 7744)              0         \n",
      "_________________________________________________________________\n",
      "dense_39 (Dense)             (None, 128)               991360    \n",
      "_________________________________________________________________\n",
      "dropout_23 (Dropout)         (None, 128)               0         \n",
      "_________________________________________________________________\n",
      "dense_40 (Dense)             (None, 64)                8256      \n",
      "_________________________________________________________________\n",
      "dropout_24 (Dropout)         (None, 64)                0         \n",
      "_________________________________________________________________\n",
      "dense_41 (Dense)             (None, 32)                2080      \n",
      "_________________________________________________________________\n",
      "dropout_25 (Dropout)         (None, 32)                0         \n",
      "_________________________________________________________________\n",
      "dense_42 (Dense)             (None, 16)                528       \n",
      "_________________________________________________________________\n",
      "dense_43 (Dense)             (None, 6)                 102       \n",
      "=================================================================\n",
      "Total params: 1,037,478\n",
      "Trainable params: 1,037,478\n",
      "Non-trainable params: 0\n",
      "_________________________________________________________________\n"
     ]
    }
   ],
   "source": [
    "model = tf.keras.models.Sequential([\n",
    "    # CNN\n",
    "    tf.keras.layers.Conv2D(8, (5,5), activation='relu', input_shape=size_input+(3,)),\n",
    "    tf.keras.layers.MaxPooling2D(2,2),\n",
    "    tf.keras.layers.Conv2D(16, (5,5), activation='relu'),\n",
    "    tf.keras.layers.MaxPooling2D(2,2),\n",
    "    tf.keras.layers.Conv2D(32, (5,5), activation='relu'),\n",
    "    tf.keras.layers.MaxPooling2D(2,2),\n",
    "    tf.keras.layers.Conv2D(64, (3,3), activation='relu'),\n",
    "    tf.keras.layers.MaxPooling2D(2,2),\n",
    "    # DNN\n",
    "    tf.keras.layers.Flatten(),\n",
    "    tf.keras.layers.Dense(128, activation='relu'),\n",
    "    tf.keras.layers.Dropout(0.25),\n",
    "    tf.keras.layers.Dense(64, activation='relu'),\n",
    "    tf.keras.layers.Dropout(0.25),\n",
    "    tf.keras.layers.Dense(32, activation='relu'),\n",
    "    tf.keras.layers.Dropout(0.25),\n",
    "    tf.keras.layers.Dense(16, activation='relu'),\n",
    "    tf.keras.layers.Dense(6, activation='softmax')\n",
    "])\n",
    "model.summary()"
   ]
  },
  {
   "cell_type": "code",
   "execution_count": null,
   "metadata": {
    "id": "FzEPRLlIPmBO"
   },
   "outputs": [],
   "source": [
    "model.compile(\n",
    "    optimizer='adam',\n",
    "    loss='categorical_crossentropy',\n",
    "    metrics=['acc']\n",
    ")"
   ]
  },
  {
   "cell_type": "markdown",
   "metadata": {
    "id": "XX0X8HAK9y8x"
   },
   "source": [
    "### Training Model"
   ]
  },
  {
   "cell_type": "code",
   "execution_count": null,
   "metadata": {
    "id": "jP1rbPZDP5sl"
   },
   "outputs": [],
   "source": [
    "class callback_acc(tf.keras.callbacks.Callback):\n",
    "  def on_epoch_end(self, epoch, logs={}):\n",
    "    if(logs.get('acc') > 0.995 and logs.get('val_acc') > 0.995):\n",
    "      self.model.stop_training = True\n",
    "\n",
    "callback_acc = callback_acc()\n",
    "callback_es = tf.keras.callbacks.EarlyStopping(monitor='loss', patience=3)"
   ]
  },
  {
   "cell_type": "code",
   "execution_count": null,
   "metadata": {
    "colab": {
     "base_uri": "https://localhost:8080/"
    },
    "id": "hN5SA4a3Qixl",
    "outputId": "8b7b311f-bd15-4a52-8e07-1ae09b3aae33"
   },
   "outputs": [
    {
     "name": "stdout",
     "output_type": "stream",
     "text": [
      "Epoch 1/15\n",
      "563/563 [==============================] - 226s 400ms/step - loss: 1.4001 - acc: 0.4166 - val_loss: 0.5739 - val_acc: 0.8080\n",
      "Epoch 2/15\n",
      "563/563 [==============================] - 228s 405ms/step - loss: 0.7343 - acc: 0.7399 - val_loss: 0.1188 - val_acc: 0.9637\n",
      "Epoch 3/15\n",
      "563/563 [==============================] - 231s 409ms/step - loss: 0.4514 - acc: 0.8493 - val_loss: 0.0612 - val_acc: 0.9857\n",
      "Epoch 4/15\n",
      "563/563 [==============================] - 227s 404ms/step - loss: 0.3271 - acc: 0.8972 - val_loss: 0.0394 - val_acc: 0.9930\n",
      "Epoch 5/15\n",
      "563/563 [==============================] - 223s 397ms/step - loss: 0.2648 - acc: 0.9176 - val_loss: 0.0096 - val_acc: 0.9987\n",
      "Epoch 6/15\n",
      "563/563 [==============================] - 224s 398ms/step - loss: 0.2170 - acc: 0.9347 - val_loss: 0.0264 - val_acc: 0.9923\n",
      "Epoch 7/15\n",
      "563/563 [==============================] - 227s 403ms/step - loss: 0.1868 - acc: 0.9433 - val_loss: 0.0087 - val_acc: 0.9977\n",
      "Epoch 8/15\n",
      "563/563 [==============================] - 226s 402ms/step - loss: 0.1704 - acc: 0.9505 - val_loss: 0.0306 - val_acc: 0.9913\n",
      "Epoch 9/15\n",
      "563/563 [==============================] - 228s 404ms/step - loss: 0.1488 - acc: 0.9567 - val_loss: 0.0027 - val_acc: 0.9997\n",
      "Epoch 10/15\n",
      "563/563 [==============================] - 226s 401ms/step - loss: 0.1371 - acc: 0.9602 - val_loss: 0.0088 - val_acc: 0.9987\n",
      "Epoch 11/15\n",
      "563/563 [==============================] - 226s 402ms/step - loss: 0.1317 - acc: 0.9615 - val_loss: 0.0042 - val_acc: 0.9987\n",
      "Epoch 12/15\n",
      "563/563 [==============================] - 227s 403ms/step - loss: 0.1220 - acc: 0.9639 - val_loss: 0.0136 - val_acc: 0.9970\n",
      "Epoch 13/15\n",
      "563/563 [==============================] - 226s 402ms/step - loss: 0.1069 - acc: 0.9691 - val_loss: 0.0232 - val_acc: 0.9950\n",
      "Epoch 14/15\n",
      "563/563 [==============================] - 228s 405ms/step - loss: 0.1107 - acc: 0.9688 - val_loss: 0.0050 - val_acc: 0.9990\n",
      "Epoch 15/15\n",
      "563/563 [==============================] - 229s 406ms/step - loss: 0.1036 - acc: 0.9709 - val_loss: 0.0019 - val_acc: 1.0000\n"
     ]
    }
   ],
   "source": [
    "history = model.fit(\n",
    "    train_generator,\n",
    "    epochs=15,\n",
    "    steps_per_epoch=len(train_generator),\n",
    "    validation_data=val_generator,\n",
    "    validation_steps=len(val_generator),\n",
    "    callbacks=[callback_acc, callback_es],\n",
    "    verbose=1\n",
    ")"
   ]
  },
  {
   "cell_type": "markdown",
   "metadata": {
    "id": "QXQ9PZIZ_J24"
   },
   "source": [
    "### Plot Accuracy and Lose"
   ]
  },
  {
   "cell_type": "code",
   "execution_count": null,
   "metadata": {
    "colab": {
     "base_uri": "https://localhost:8080/",
     "height": 573
    },
    "id": "t6GcxSCH_H47",
    "outputId": "f2db0b72-e138-4d0b-b068-d57b8e75ba08"
   },
   "outputs": [
    {
     "data": {
      "image/png": "[encoded data removed]",
      "text/plain": [
       "<Figure size 432x288 with 1 Axes>"
      ]
     },
     "metadata": {
      "needs_background": "light"
     },
     "output_type": "display_data"
    },
    {
     "data": {
      "image/png": "[encoded data removed]",
      "text/plain": [
       "<Figure size 432x288 with 1 Axes>"
      ]
     },
     "metadata": {
      "needs_background": "light"
     },
     "output_type": "display_data"
    }
   ],
   "source": [
    "acc = history.history['acc']\n",
    "val_acc = history.history['val_acc']\n",
    "loss = history.history['loss']\n",
    "val_loss = history.history['val_loss']\n",
    "\n",
    "epochs=range(len(acc))\n",
    "\n",
    "# Plot training and validation accuracy per epoch\n",
    "plt.plot(epochs, acc, 'r', label=\"Training Accuracy\")\n",
    "plt.plot(epochs, val_acc, 'b', label=\"Validation Accuracy\")\n",
    "plt.title('Training and validation accuracy')\n",
    "plt.xlabel('Epoch')\n",
    "plt.ylabel('Accuracy')\n",
    "plt.legend()\n",
    "plt.figure()\n",
    "\n",
    "# Plot training and validation loss per epoch\n",
    "plt.plot(epochs, loss, 'r', label=\"Training Loss\")\n",
    "plt.plot(epochs, val_loss, 'b', label=\"Validation Loss\")\n",
    "plt.title('Training and validation loss')\n",
    "plt.xlabel('Epoch')\n",
    "plt.ylabel('Loss')\n",
    "plt.legend()\n",
    "plt.show()"
   ]
  },
  {
   "cell_type": "markdown",
   "metadata": {
    "id": "-mA_WDcA_gQ9"
   },
   "source": [
    "### Test Accuracy Model"
   ]
  },
  {
   "cell_type": "code",
   "execution_count": null,
   "metadata": {
    "colab": {
     "base_uri": "https://localhost:8080/"
    },
    "id": "mvi79bPX_j8o",
    "outputId": "5f96988c-b1bd-4565-bb42-2e5909dbb890"
   },
   "outputs": [
    {
     "name": "stdout",
     "output_type": "stream",
     "text": [
      "188/188 [==============================] - 5s 28ms/step - loss: 0.0019 - acc: 0.9997\n"
     ]
    }
   ],
   "source": [
    "loss = model.evaluate(test_generator, steps=len(test_generator))"
   ]
  },
  {
   "cell_type": "markdown",
   "metadata": {
    "id": "QyvC-4Jx_gAu"
   },
   "source": [
    "#### Visualize accuracy each label or class with confusion matrix \n",
    "reference : https://datatofish.com/confusion-matrix-python/"
   ]
  },
  {
   "cell_type": "code",
   "execution_count": null,
   "metadata": {
    "colab": {
     "base_uri": "https://localhost:8080/"
    },
    "id": "y8MfF2jb_7BS",
    "outputId": "5fd62e4f-e998-4707-846a-29195760471b"
   },
   "outputs": [
    {
     "name": "stdout",
     "output_type": "stream",
     "text": [
      "Found 3000 images belonging to 6 classes.\n"
     ]
    },
    {
     "data": {
      "text/plain": [
       "array([0, 0, 0, ..., 5, 5, 5], dtype=int32)"
      ]
     },
     "execution_count": 27,
     "metadata": {},
     "output_type": "execute_result"
    }
   ],
   "source": [
    "# Create new test generator with shuffle=False\n",
    "new_test_generator = test_datagen.flow_from_directory(\n",
    "    directory=test_dir,\n",
    "    batch_size=batch_test,\n",
    "    class_mode='categorical',\n",
    "    target_size=size_input,\n",
    "    shuffle=False # important part\n",
    ")\n",
    "new_test_generator.classes"
   ]
  },
  {
   "cell_type": "code",
   "execution_count": null,
   "metadata": {
    "id": "EuT14_aIABxn"
   },
   "outputs": [],
   "source": [
    "predictions = model.predict(new_test_generator, steps=len(new_test_generator))"
   ]
  },
  {
   "cell_type": "code",
   "execution_count": null,
   "metadata": {
    "id": "jBdIOx3RAEOl"
   },
   "outputs": [],
   "source": [
    "# [FIXED] Problem order classes with set shuffle=False in test_generator\n",
    "predictions_lb = np.argmax(predictions,axis=1)"
   ]
  },
  {
   "cell_type": "code",
   "execution_count": null,
   "metadata": {
    "colab": {
     "base_uri": "https://localhost:8080/"
    },
    "id": "1-DAYV-fAGG4",
    "outputId": "bed025c8-13fd-4dce-f820-701db179f97c"
   },
   "outputs": [
    {
     "name": "stdout",
     "output_type": "stream",
     "text": [
      "tf.Tensor(\n",
      "[[500   0   0   0   0   0]\n",
      " [  0 500   0   0   0   0]\n",
      " [  0   0 499   1   0   0]\n",
      " [  0   0   0 500   0   0]\n",
      " [  0   0   0   0 500   0]\n",
      " [  0   0   0   0   0 500]], shape=(6, 6), dtype=int32)\n"
     ]
    }
   ],
   "source": [
    "labels = new_test_generator.classes\n",
    "confusion_matrix = tf.math.confusion_matrix(labels, predictions_lb)\n",
    "print(confusion_matrix)"
   ]
  },
  {
   "cell_type": "code",
   "execution_count": null,
   "metadata": {
    "colab": {
     "base_uri": "https://localhost:8080/",
     "height": 501
    },
    "id": "qRqBFpFIAIsg",
    "outputId": "06944d58-6224-4704-f411-b6760587dbf4"
   },
   "outputs": [
    {
     "data": {
      "image/png": "[encoded data removed]",
      "text/plain": [
       "<Figure size 576x576 with 2 Axes>"
      ]
     },
     "metadata": {
      "needs_background": "light"
     },
     "output_type": "display_data"
    }
   ],
   "source": [
    "data = {'y_Actual': labels,\n",
    "        'y_Predicted': predictions_lb\n",
    "        }\n",
    "\n",
    "df = pd.DataFrame(data, columns=['y_Actual','y_Predicted'])\n",
    "confusion_matrix = pd.crosstab(df['y_Actual'], df['y_Predicted'], rownames=['Actual'], colnames=['Predicted'], margins = True)\n",
    "plt.figure(figsize = (8,8))\n",
    "sn.heatmap(confusion_matrix, annot=True, fmt=\"d\")\n",
    "plt.show()"
   ]
  },
  {
   "cell_type": "markdown",
   "metadata": {
    "id": "5NyE6NT8FoPx"
   },
   "source": [
    "<table>\n",
    "  <tr>\n",
    "    <th colspan=\"6\">Label Code</th>\n",
    "  </tr>\n",
    "  <tr align=\"center\">\n",
    "    <td>0</td>\n",
    "    <td>1</td>\n",
    "    <td>2</td>\n",
    "    <td>3</td>\n",
    "    <td>4</td>\n",
    "    <td>5</td>\n",
    "  </tr>\n",
    "  <tr>\n",
    "    <td>Circle</td>\n",
    "    <td>Kite</td>\n",
    "    <td>Parallelogram</td>\n",
    "    <td>Square</td>\n",
    "    <td>Trapezoid</td>\n",
    "    <td>Triangle</td>\n",
    "  </tr>\n",
    "</table>"
   ]
  },
  {
   "cell_type": "markdown",
   "metadata": {
    "id": "yYu-tp0fANGS"
   },
   "source": [
    "More Details"
   ]
  },
  {
   "cell_type": "code",
   "execution_count": null,
   "metadata": {
    "colab": {
     "base_uri": "https://localhost:8080/"
    },
    "id": "MKjwoYedAQDr",
    "outputId": "ce549c95-1776-4d14-bfb7-5f99f9f50319"
   },
   "outputs": [
    {
     "name": "stdout",
     "output_type": "stream",
     "text": [
      "               precision    recall  f1-score   support\n",
      "\n",
      "       circle       1.00      1.00      1.00       500\n",
      "         kite       1.00      1.00      1.00       500\n",
      "parallelogram       1.00      1.00      1.00       500\n",
      "       square       1.00      1.00      1.00       500\n",
      "    trapezoid       1.00      1.00      1.00       500\n",
      "     triangle       1.00      1.00      1.00       500\n",
      "\n",
      "     accuracy                           1.00      3000\n",
      "    macro avg       1.00      1.00      1.00      3000\n",
      " weighted avg       1.00      1.00      1.00      3000\n",
      "\n"
     ]
    }
   ],
   "source": [
    "report = metrics.classification_report(\n",
    "    labels, \n",
    "    predictions_lb, \n",
    "    target_names=label\n",
    ")\n",
    "print(report)"
   ]
  },
  {
   "cell_type": "markdown",
   "metadata": {
    "id": "SxXTyiUV_E6f"
   },
   "source": [
    "====================================="
   ]
  },
  {
   "cell_type": "markdown",
   "metadata": {
    "id": "DGAqkfCeF2cJ"
   },
   "source": [
    "## Exporting and Optimization to TFJs\n",
    "Reference :  \n",
    "- https://medium.com/hackernoon/tf-serving-keras-mobilenetv2-632b8d92983c\n",
    "- https://itnext.io/shrink-your-tensorflow-js-web-model-size-with-weight-quantization-6ddb4fcb6d0d"
   ]
  },
  {
   "cell_type": "code",
   "execution_count": null,
   "metadata": {
    "id": "L-shFpcJpv0p"
   },
   "outputs": [],
   "source": [
    "# Specifies the model directory\n",
    "model_dir = '/tmp/model'\n",
    "try:\n",
    "  os.mkdir(model_dir)\n",
    "except OSError as e:\n",
    "  print(\"\\nUnable create directory. {}\".format(e))"
   ]
  },
  {
   "cell_type": "code",
   "execution_count": null,
   "metadata": {
    "id": "JHCN4SFJp6SZ"
   },
   "outputs": [],
   "source": [
    "# Save model .h5\n",
    "model_name = \"model_v2\"\n",
    "model.save(model_dir+f\"/{model_name}.h5\")"
   ]
  },
  {
   "cell_type": "code",
   "execution_count": null,
   "metadata": {
    "colab": {
     "base_uri": "https://localhost:8080/",
     "height": 35
    },
    "id": "aSfL7_sbqDfd",
    "outputId": "8e26e5fd-46fd-4541-dc9f-8e84c0020fdf"
   },
   "outputs": [
    {
     "data": {
      "application/javascript": [
       "\n",
       "    async function download(id, filename, size) {\n",
       "      if (!google.colab.kernel.accessAllowed) {\n",
       "        return;\n",
       "      }\n",
       "      const div = document.createElement('div');\n",
       "      const label = document.createElement('label');\n",
       "      label.textContent = `Downloading \"${filename}\": `;\n",
       "      div.appendChild(label);\n",
       "      const progress = document.createElement('progress');\n",
       "      progress.max = size;\n",
       "      div.appendChild(progress);\n",
       "      document.body.appendChild(div);\n",
       "\n",
       "      const buffers = [];\n",
       "      let downloaded = 0;\n",
       "\n",
       "      const channel = await google.colab.kernel.comms.open(id);\n",
       "      // Send a message to notify the kernel that we're ready.\n",
       "      channel.send({})\n",
       "\n",
       "      for await (const message of channel.messages) {\n",
       "        // Send a message to notify the kernel that we're ready.\n",
       "        channel.send({})\n",
       "        if (message.buffers) {\n",
       "          for (const buffer of message.buffers) {\n",
       "            buffers.push(buffer);\n",
       "            downloaded += buffer.byteLength;\n",
       "            progress.value = downloaded;\n",
       "          }\n",
       "        }\n",
       "      }\n",
       "      const blob = new Blob(buffers, {type: 'application/binary'});\n",
       "      const a = document.createElement('a');\n",
       "      a.href = window.URL.createObjectURL(blob);\n",
       "      a.download = filename;\n",
       "      div.appendChild(a);\n",
       "      a.click();\n",
       "      div.remove();\n",
       "    }\n",
       "  "
      ],
      "text/plain": [
       "<IPython.core.display.Javascript object>"
      ]
     },
     "metadata": {},
     "output_type": "display_data"
    },
    {
     "data": {
      "application/javascript": [
       "download(\"download_01c5324d-e6e2-406b-ad0c-cb72667d5ada\", \"model_v2.h5\", 12540032)"
      ],
      "text/plain": [
       "<IPython.core.display.Javascript object>"
      ]
     },
     "metadata": {},
     "output_type": "display_data"
    },
    {
     "name": "stdout",
     "output_type": "stream",
     "text": [
      "`model_v2.h5` has been downloaded\n"
     ]
    }
   ],
   "source": [
    "# Download model .h5, for backup\n",
    "files.download('/tmp/model/model_v2.h5')\n",
    "\n",
    "print('`model_v2.h5` has been downloaded')"
   ]
  },
  {
   "cell_type": "markdown",
   "metadata": {
    "id": "6TCQooesGS1S"
   },
   "source": [
    "Export .h5 model to tfjs model  \n",
    "Reference : https://huningxin.github.io/tfjs-converter/"
   ]
  },
  {
   "cell_type": "code",
   "execution_count": null,
   "metadata": {
    "id": "5eqChDISqWZY"
   },
   "outputs": [],
   "source": [
    "!tensorflowjs_converter \\\n",
    "    --input_format=keras \\\n",
    "    --output_format=tfjs_layers_model \\\n",
    "    /tmp/model/model_v2.h5 \\\n",
    "    /tmp/tfjs_float_model"
   ]
  },
  {
   "cell_type": "markdown",
   "metadata": {
    "id": "G5bCDjdwGeov"
   },
   "source": [
    "Optimization using quantization  \n",
    "Reference : https://stackoverflow.com/questions/63949766/how-can-i-quantize-a-keras-model-while-converting-it-to-a-tensorflowjs-layers-mo\n",
    "\n"
   ]
  },
  {
   "cell_type": "code",
   "execution_count": null,
   "metadata": {
    "id": "LTOARsl1qdKT"
   },
   "outputs": [],
   "source": [
    "!tensorflowjs_converter \\\n",
    "    --quantize_uint8 \\\n",
    "    --input_format=keras \\\n",
    "    --output_format=tfjs_layers_model \\\n",
    "    /tmp/model/model_v2.h5 \\\n",
    "    /tmp/tfjs_quant_model"
   ]
  },
  {
   "cell_type": "markdown",
   "metadata": {
    "id": "iw_luTguGpP2"
   },
   "source": [
    "### Download TFJs Model"
   ]
  },
  {
   "cell_type": "code",
   "execution_count": null,
   "metadata": {
    "colab": {
     "base_uri": "https://localhost:8080/"
    },
    "id": "m6g_HILRqmF1",
    "outputId": "fcbc711b-a1cd-4fd7-d772-ad929f28cce8"
   },
   "outputs": [
    {
     "name": "stdout",
     "output_type": "stream",
     "text": [
      "updating: tmp/tfjs_float_model/ (stored 0%)\n",
      "updating: tmp/tfjs_float_model/group1-shard1of1.bin (deflated 7%)\n",
      "updating: tmp/tfjs_float_model/model.json (deflated 87%)\n"
     ]
    }
   ],
   "source": [
    "!zip -r /tmp/tfjs_float_model_v2.zip /tmp/tfjs_float_model"
   ]
  },
  {
   "cell_type": "code",
   "execution_count": null,
   "metadata": {
    "colab": {
     "base_uri": "https://localhost:8080/",
     "height": 35
    },
    "id": "Wb_RRqx5qzB6",
    "outputId": "0b773a33-96a5-47fa-8bbd-7025f9164fb2"
   },
   "outputs": [
    {
     "data": {
      "application/javascript": [
       "\n",
       "    async function download(id, filename, size) {\n",
       "      if (!google.colab.kernel.accessAllowed) {\n",
       "        return;\n",
       "      }\n",
       "      const div = document.createElement('div');\n",
       "      const label = document.createElement('label');\n",
       "      label.textContent = `Downloading \"${filename}\": `;\n",
       "      div.appendChild(label);\n",
       "      const progress = document.createElement('progress');\n",
       "      progress.max = size;\n",
       "      div.appendChild(progress);\n",
       "      document.body.appendChild(div);\n",
       "\n",
       "      const buffers = [];\n",
       "      let downloaded = 0;\n",
       "\n",
       "      const channel = await google.colab.kernel.comms.open(id);\n",
       "      // Send a message to notify the kernel that we're ready.\n",
       "      channel.send({})\n",
       "\n",
       "      for await (const message of channel.messages) {\n",
       "        // Send a message to notify the kernel that we're ready.\n",
       "        channel.send({})\n",
       "        if (message.buffers) {\n",
       "          for (const buffer of message.buffers) {\n",
       "            buffers.push(buffer);\n",
       "            downloaded += buffer.byteLength;\n",
       "            progress.value = downloaded;\n",
       "          }\n",
       "        }\n",
       "      }\n",
       "      const blob = new Blob(buffers, {type: 'application/binary'});\n",
       "      const a = document.createElement('a');\n",
       "      a.href = window.URL.createObjectURL(blob);\n",
       "      a.download = filename;\n",
       "      div.appendChild(a);\n",
       "      a.click();\n",
       "      div.remove();\n",
       "    }\n",
       "  "
      ],
      "text/plain": [
       "<IPython.core.display.Javascript object>"
      ]
     },
     "metadata": {},
     "output_type": "display_data"
    },
    {
     "data": {
      "application/javascript": [
       "download(\"download_96eb9fb9-e927-42ba-9b6a-9af9a885533f\", \"tfjs_float_model_v2.zip\", 7753934)"
      ],
      "text/plain": [
       "<IPython.core.display.Javascript object>"
      ]
     },
     "metadata": {},
     "output_type": "display_data"
    },
    {
     "name": "stdout",
     "output_type": "stream",
     "text": [
      "`tfjs_float_model_v2.zip` has been downloaded\n"
     ]
    }
   ],
   "source": [
    "# Download the model\n",
    "files.download('/tmp/tfjs_float_model_v2.zip')\n",
    "\n",
    "print('`tfjs_float_model_v2.zip` has been downloaded')"
   ]
  },
  {
   "cell_type": "code",
   "execution_count": null,
   "metadata": {
    "colab": {
     "base_uri": "https://localhost:8080/"
    },
    "id": "9879r1byq9_4",
    "outputId": "3163f64e-be46-4572-8158-f4ab134201d1"
   },
   "outputs": [
    {
     "name": "stdout",
     "output_type": "stream",
     "text": [
      "updating: tmp/tfjs_quant_model/ (stored 0%)\n",
      "updating: tmp/tfjs_quant_model/group1-shard1of1.bin (deflated 24%)\n",
      "updating: tmp/tfjs_quant_model/model.json (deflated 85%)\n"
     ]
    }
   ],
   "source": [
    "!zip -r /tmp/tfjs_quant_model_v2.zip /tmp/tfjs_quant_model"
   ]
  },
  {
   "cell_type": "code",
   "execution_count": null,
   "metadata": {
    "colab": {
     "base_uri": "https://localhost:8080/",
     "height": 52
    },
    "id": "zRFAsKHIrAI-",
    "outputId": "f322ad62-4677-48d0-da77-b523c6e13307"
   },
   "outputs": [
    {
     "data": {
      "application/javascript": [
       "\n",
       "    async function download(id, filename, size) {\n",
       "      if (!google.colab.kernel.accessAllowed) {\n",
       "        return;\n",
       "      }\n",
       "      const div = document.createElement('div');\n",
       "      const label = document.createElement('label');\n",
       "      label.textContent = `Downloading \"${filename}\": `;\n",
       "      div.appendChild(label);\n",
       "      const progress = document.createElement('progress');\n",
       "      progress.max = size;\n",
       "      div.appendChild(progress);\n",
       "      document.body.appendChild(div);\n",
       "\n",
       "      const buffers = [];\n",
       "      let downloaded = 0;\n",
       "\n",
       "      const channel = await google.colab.kernel.comms.open(id);\n",
       "      // Send a message to notify the kernel that we're ready.\n",
       "      channel.send({})\n",
       "\n",
       "      for await (const message of channel.messages) {\n",
       "        // Send a message to notify the kernel that we're ready.\n",
       "        channel.send({})\n",
       "        if (message.buffers) {\n",
       "          for (const buffer of message.buffers) {\n",
       "            buffers.push(buffer);\n",
       "            downloaded += buffer.byteLength;\n",
       "            progress.value = downloaded;\n",
       "          }\n",
       "        }\n",
       "      }\n",
       "      const blob = new Blob(buffers, {type: 'application/binary'});\n",
       "      const a = document.createElement('a');\n",
       "      a.href = window.URL.createObjectURL(blob);\n",
       "      a.download = filename;\n",
       "      div.appendChild(a);\n",
       "      a.click();\n",
       "      div.remove();\n",
       "    }\n",
       "  "
      ],
      "text/plain": [
       "<IPython.core.display.Javascript object>"
      ]
     },
     "metadata": {},
     "output_type": "display_data"
    },
    {
     "data": {
      "application/javascript": [
       "download(\"download_6fd97e44-7fc1-4e8d-bd1c-6e18630ab948\", \"tfjs_quant_model_v2.zip\", 788975)"
      ],
      "text/plain": [
       "<IPython.core.display.Javascript object>"
      ]
     },
     "metadata": {},
     "output_type": "display_data"
    },
    {
     "name": "stdout",
     "output_type": "stream",
     "text": [
      "`tfjs_quant_model_v2.zip` has been downloaded\n"
     ]
    }
   ],
   "source": [
    "# Download the model\n",
    "files.download('/tmp/tfjs_quant_model_v2.zip')\n",
    "\n",
    "print('`tfjs_quant_model_v2.zip` has been downloaded')"
   ]
  }
 ],
 "metadata": {
  "accelerator": "GPU",
  "colab": {
   "collapsed_sections": [],
   "name": "tfjs-model-maker-v2.ipynb",
   "provenance": []
  },
  "kernelspec": {
   "display_name": "Python 3",
   "language": "python",
   "name": "python3"
  },
  "language_info": {
   "codemirror_mode": {
    "name": "ipython",
    "version": 3
   },
   "file_extension": ".py",
   "mimetype": "text/x-python",
   "name": "python",
   "nbconvert_exporter": "python",
   "pygments_lexer": "ipython3",
   "version": "3.7.6"
  }
 },
 "nbformat": 4,
 "nbformat_minor": 4
}
