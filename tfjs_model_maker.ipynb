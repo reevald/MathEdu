{
  "nbformat": 4,
  "nbformat_minor": 0,
  "metadata": {
    "colab": {
      "name": "tfjs-model-maker.ipynb",
      "provenance": [],
      "collapsed_sections": []
    },
    "kernelspec": {
      "name": "python3",
      "display_name": "Python 3"
    },
    "language_info": {
      "name": "python"
    },
    "accelerator": "GPU"
  },
  "cells": [
    {
      "cell_type": "markdown",
      "metadata": {
        "id": "upw6q62C5Bp2"
      },
      "source": [
        "# Six Shapes Classification with Machine Learning (TFJs)\n",
        "\n",
        "- Repository : https://github.com/reevald/MathEdu\n",
        "- Dataset : https://github.com/reevald/MathEdu/raw/main/dataset/six-shapes-dataset.zip"
      ]
    },
    {
      "cell_type": "markdown",
      "metadata": {
        "id": "EvmTldEA5Vh2"
      },
      "source": [
        "## Import Libraries"
      ]
    },
    {
      "cell_type": "code",
      "metadata": {
        "id": "9cDT15-w6wDm"
      },
      "source": [
        "import zipfile\n",
        "import os\n",
        "import random\n",
        "import math\n",
        "import shutil\n",
        "import tensorflow as tf\n",
        "import matplotlib.pyplot as plt\n",
        "import matplotlib.image as mpimg\n",
        "import numpy as np\n",
        "import pandas as pd\n",
        "import seaborn as sn\n",
        "from sklearn import metrics\n",
        "from google.colab import files\n",
        "from shutil import copyfile\n",
        "from tensorflow.keras.preprocessing.image import ImageDataGenerator"
      ],
      "execution_count": 1,
      "outputs": []
    },
    {
      "cell_type": "code",
      "metadata": {
        "colab": {
          "base_uri": "https://localhost:8080/"
        },
        "id": "l2hlAXEM5ZPo",
        "outputId": "d0828ea9-c02c-464e-d839-ee20e89e7fbf"
      },
      "source": [
        "!pip install tensorflowjs"
      ],
      "execution_count": 2,
      "outputs": [
        {
          "output_type": "stream",
          "text": [
            "Collecting tensorflowjs\n",
            "  Downloading tensorflowjs-3.8.0-py3-none-any.whl (64 kB)\n",
            "\u001b[?25l\r\u001b[K     |█████                           | 10 kB 36.3 MB/s eta 0:00:01\r\u001b[K     |██████████▏                     | 20 kB 21.7 MB/s eta 0:00:01\r\u001b[K     |███████████████▏                | 30 kB 17.0 MB/s eta 0:00:01\r\u001b[K     |████████████████████▎           | 40 kB 15.1 MB/s eta 0:00:01\r\u001b[K     |█████████████████████████▎      | 51 kB 7.0 MB/s eta 0:00:01\r\u001b[K     |██████████████████████████████▍ | 61 kB 8.2 MB/s eta 0:00:01\r\u001b[K     |████████████████████████████████| 64 kB 2.4 MB/s \n",
            "\u001b[?25hRequirement already satisfied: tensorflow<3,>=2.1.0 in /usr/local/lib/python3.7/dist-packages (from tensorflowjs) (2.6.0)\n",
            "Requirement already satisfied: six<2,>=1.12.0 in /usr/local/lib/python3.7/dist-packages (from tensorflowjs) (1.15.0)\n",
            "Requirement already satisfied: tensorflow-hub<0.13,>=0.7.0 in /usr/local/lib/python3.7/dist-packages (from tensorflowjs) (0.12.0)\n",
            "Requirement already satisfied: tensorboard~=2.6 in /usr/local/lib/python3.7/dist-packages (from tensorflow<3,>=2.1.0->tensorflowjs) (2.6.0)\n",
            "Requirement already satisfied: protobuf>=3.9.2 in /usr/local/lib/python3.7/dist-packages (from tensorflow<3,>=2.1.0->tensorflowjs) (3.17.3)\n",
            "Requirement already satisfied: keras-preprocessing~=1.1.2 in /usr/local/lib/python3.7/dist-packages (from tensorflow<3,>=2.1.0->tensorflowjs) (1.1.2)\n",
            "Requirement already satisfied: tensorflow-estimator~=2.6 in /usr/local/lib/python3.7/dist-packages (from tensorflow<3,>=2.1.0->tensorflowjs) (2.6.0)\n",
            "Requirement already satisfied: astunparse~=1.6.3 in /usr/local/lib/python3.7/dist-packages (from tensorflow<3,>=2.1.0->tensorflowjs) (1.6.3)\n",
            "Requirement already satisfied: h5py~=3.1.0 in /usr/local/lib/python3.7/dist-packages (from tensorflow<3,>=2.1.0->tensorflowjs) (3.1.0)\n",
            "Requirement already satisfied: typing-extensions~=3.7.4 in /usr/local/lib/python3.7/dist-packages (from tensorflow<3,>=2.1.0->tensorflowjs) (3.7.4.3)\n",
            "Requirement already satisfied: numpy~=1.19.2 in /usr/local/lib/python3.7/dist-packages (from tensorflow<3,>=2.1.0->tensorflowjs) (1.19.5)\n",
            "Requirement already satisfied: termcolor~=1.1.0 in /usr/local/lib/python3.7/dist-packages (from tensorflow<3,>=2.1.0->tensorflowjs) (1.1.0)\n",
            "Requirement already satisfied: clang~=5.0 in /usr/local/lib/python3.7/dist-packages (from tensorflow<3,>=2.1.0->tensorflowjs) (5.0)\n",
            "Requirement already satisfied: google-pasta~=0.2 in /usr/local/lib/python3.7/dist-packages (from tensorflow<3,>=2.1.0->tensorflowjs) (0.2.0)\n",
            "Requirement already satisfied: wheel~=0.35 in /usr/local/lib/python3.7/dist-packages (from tensorflow<3,>=2.1.0->tensorflowjs) (0.37.0)\n",
            "Requirement already satisfied: flatbuffers~=1.12.0 in /usr/local/lib/python3.7/dist-packages (from tensorflow<3,>=2.1.0->tensorflowjs) (1.12)\n",
            "Requirement already satisfied: keras~=2.6 in /usr/local/lib/python3.7/dist-packages (from tensorflow<3,>=2.1.0->tensorflowjs) (2.6.0)\n",
            "Requirement already satisfied: wrapt~=1.12.1 in /usr/local/lib/python3.7/dist-packages (from tensorflow<3,>=2.1.0->tensorflowjs) (1.12.1)\n",
            "Requirement already satisfied: gast==0.4.0 in /usr/local/lib/python3.7/dist-packages (from tensorflow<3,>=2.1.0->tensorflowjs) (0.4.0)\n",
            "Requirement already satisfied: grpcio<2.0,>=1.37.0 in /usr/local/lib/python3.7/dist-packages (from tensorflow<3,>=2.1.0->tensorflowjs) (1.39.0)\n",
            "Requirement already satisfied: opt-einsum~=3.3.0 in /usr/local/lib/python3.7/dist-packages (from tensorflow<3,>=2.1.0->tensorflowjs) (3.3.0)\n",
            "Requirement already satisfied: absl-py~=0.10 in /usr/local/lib/python3.7/dist-packages (from tensorflow<3,>=2.1.0->tensorflowjs) (0.12.0)\n",
            "Requirement already satisfied: cached-property in /usr/local/lib/python3.7/dist-packages (from h5py~=3.1.0->tensorflow<3,>=2.1.0->tensorflowjs) (1.5.2)\n",
            "Requirement already satisfied: google-auth-oauthlib<0.5,>=0.4.1 in /usr/local/lib/python3.7/dist-packages (from tensorboard~=2.6->tensorflow<3,>=2.1.0->tensorflowjs) (0.4.5)\n",
            "Requirement already satisfied: setuptools>=41.0.0 in /usr/local/lib/python3.7/dist-packages (from tensorboard~=2.6->tensorflow<3,>=2.1.0->tensorflowjs) (57.4.0)\n",
            "Requirement already satisfied: google-auth<2,>=1.6.3 in /usr/local/lib/python3.7/dist-packages (from tensorboard~=2.6->tensorflow<3,>=2.1.0->tensorflowjs) (1.34.0)\n",
            "Requirement already satisfied: werkzeug>=0.11.15 in /usr/local/lib/python3.7/dist-packages (from tensorboard~=2.6->tensorflow<3,>=2.1.0->tensorflowjs) (1.0.1)\n",
            "Requirement already satisfied: markdown>=2.6.8 in /usr/local/lib/python3.7/dist-packages (from tensorboard~=2.6->tensorflow<3,>=2.1.0->tensorflowjs) (3.3.4)\n",
            "Requirement already satisfied: tensorboard-data-server<0.7.0,>=0.6.0 in /usr/local/lib/python3.7/dist-packages (from tensorboard~=2.6->tensorflow<3,>=2.1.0->tensorflowjs) (0.6.1)\n",
            "Requirement already satisfied: requests<3,>=2.21.0 in /usr/local/lib/python3.7/dist-packages (from tensorboard~=2.6->tensorflow<3,>=2.1.0->tensorflowjs) (2.23.0)\n",
            "Requirement already satisfied: tensorboard-plugin-wit>=1.6.0 in /usr/local/lib/python3.7/dist-packages (from tensorboard~=2.6->tensorflow<3,>=2.1.0->tensorflowjs) (1.8.0)\n",
            "Requirement already satisfied: pyasn1-modules>=0.2.1 in /usr/local/lib/python3.7/dist-packages (from google-auth<2,>=1.6.3->tensorboard~=2.6->tensorflow<3,>=2.1.0->tensorflowjs) (0.2.8)\n",
            "Requirement already satisfied: cachetools<5.0,>=2.0.0 in /usr/local/lib/python3.7/dist-packages (from google-auth<2,>=1.6.3->tensorboard~=2.6->tensorflow<3,>=2.1.0->tensorflowjs) (4.2.2)\n",
            "Requirement already satisfied: rsa<5,>=3.1.4 in /usr/local/lib/python3.7/dist-packages (from google-auth<2,>=1.6.3->tensorboard~=2.6->tensorflow<3,>=2.1.0->tensorflowjs) (4.7.2)\n",
            "Requirement already satisfied: requests-oauthlib>=0.7.0 in /usr/local/lib/python3.7/dist-packages (from google-auth-oauthlib<0.5,>=0.4.1->tensorboard~=2.6->tensorflow<3,>=2.1.0->tensorflowjs) (1.3.0)\n",
            "Requirement already satisfied: importlib-metadata in /usr/local/lib/python3.7/dist-packages (from markdown>=2.6.8->tensorboard~=2.6->tensorflow<3,>=2.1.0->tensorflowjs) (4.6.4)\n",
            "Requirement already satisfied: pyasn1<0.5.0,>=0.4.6 in /usr/local/lib/python3.7/dist-packages (from pyasn1-modules>=0.2.1->google-auth<2,>=1.6.3->tensorboard~=2.6->tensorflow<3,>=2.1.0->tensorflowjs) (0.4.8)\n",
            "Requirement already satisfied: chardet<4,>=3.0.2 in /usr/local/lib/python3.7/dist-packages (from requests<3,>=2.21.0->tensorboard~=2.6->tensorflow<3,>=2.1.0->tensorflowjs) (3.0.4)\n",
            "Requirement already satisfied: idna<3,>=2.5 in /usr/local/lib/python3.7/dist-packages (from requests<3,>=2.21.0->tensorboard~=2.6->tensorflow<3,>=2.1.0->tensorflowjs) (2.10)\n",
            "Requirement already satisfied: certifi>=2017.4.17 in /usr/local/lib/python3.7/dist-packages (from requests<3,>=2.21.0->tensorboard~=2.6->tensorflow<3,>=2.1.0->tensorflowjs) (2021.5.30)\n",
            "Requirement already satisfied: urllib3!=1.25.0,!=1.25.1,<1.26,>=1.21.1 in /usr/local/lib/python3.7/dist-packages (from requests<3,>=2.21.0->tensorboard~=2.6->tensorflow<3,>=2.1.0->tensorflowjs) (1.24.3)\n",
            "Requirement already satisfied: oauthlib>=3.0.0 in /usr/local/lib/python3.7/dist-packages (from requests-oauthlib>=0.7.0->google-auth-oauthlib<0.5,>=0.4.1->tensorboard~=2.6->tensorflow<3,>=2.1.0->tensorflowjs) (3.1.1)\n",
            "Requirement already satisfied: zipp>=0.5 in /usr/local/lib/python3.7/dist-packages (from importlib-metadata->markdown>=2.6.8->tensorboard~=2.6->tensorflow<3,>=2.1.0->tensorflowjs) (3.5.0)\n",
            "Installing collected packages: tensorflowjs\n",
            "Successfully installed tensorflowjs-3.8.0\n"
          ],
          "name": "stdout"
        }
      ]
    },
    {
      "cell_type": "markdown",
      "metadata": {
        "id": "tKvySucS5kxF"
      },
      "source": [
        "## Preparation Data with ETL (Extract, Transform, Load)"
      ]
    },
    {
      "cell_type": "markdown",
      "metadata": {
        "id": "q7NWf_O86M5d"
      },
      "source": [
        "### Extract Dataset"
      ]
    },
    {
      "cell_type": "code",
      "metadata": {
        "colab": {
          "base_uri": "https://localhost:8080/"
        },
        "id": "ErI_r12X5d4_",
        "outputId": "58f29c70-4d6a-4db2-b024-d995c7c537c8"
      },
      "source": [
        "# Downloading the dataset\n",
        "!wget --no-check-certificate \\\n",
        "  https://github.com/reevald/MathEdu/raw/main/dataset/six-shapes-dataset-v1.zip \\\n",
        "  -O /tmp/six-shapes.zip"
      ],
      "execution_count": 3,
      "outputs": [
        {
          "output_type": "stream",
          "text": [
            "--2021-08-25 15:33:21--  https://github.com/reevald/MathEdu/raw/main/dataset/six-shapes-dataset-v1.zip\n",
            "Resolving github.com (github.com)... 140.82.113.3\n",
            "Connecting to github.com (github.com)|140.82.113.3|:443... connected.\n",
            "HTTP request sent, awaiting response... 302 Found\n",
            "Location: https://raw.githubusercontent.com/reevald/MathEdu/main/dataset/six-shapes-dataset-v1.zip [following]\n",
            "--2021-08-25 15:33:21--  https://raw.githubusercontent.com/reevald/MathEdu/main/dataset/six-shapes-dataset-v1.zip\n",
            "Resolving raw.githubusercontent.com (raw.githubusercontent.com)... 185.199.108.133, 185.199.109.133, 185.199.110.133, ...\n",
            "Connecting to raw.githubusercontent.com (raw.githubusercontent.com)|185.199.108.133|:443... connected.\n",
            "HTTP request sent, awaiting response... 200 OK\n",
            "Length: 16927756 (16M) [application/zip]\n",
            "Saving to: ‘/tmp/six-shapes.zip’\n",
            "\n",
            "/tmp/six-shapes.zip 100%[===================>]  16.14M  --.-KB/s    in 0.1s    \n",
            "\n",
            "2021-08-25 15:33:22 (162 MB/s) - ‘/tmp/six-shapes.zip’ saved [16927756/16927756]\n",
            "\n"
          ],
          "name": "stdout"
        }
      ]
    },
    {
      "cell_type": "code",
      "metadata": {
        "id": "8WIwewwC6oKW"
      },
      "source": [
        "# Extract the downloaded zip file\n",
        "local_zip = '/tmp/six-shapes.zip'\n",
        "zip_ref = zipfile.ZipFile(local_zip, 'r')\n",
        "zip_ref.extractall('/tmp/')\n",
        "zip_ref.close()"
      ],
      "execution_count": 5,
      "outputs": []
    },
    {
      "cell_type": "code",
      "metadata": {
        "colab": {
          "base_uri": "https://localhost:8080/"
        },
        "id": "ClXQ5Y4u7kKV",
        "outputId": "213309fe-3a78-4803-ca36-5030c533c8f2"
      },
      "source": [
        "# Check dataset directory\n",
        "base_dir = '/tmp/six-shapes'\n",
        "train_dir = os.path.join(base_dir, 'train')\n",
        "val_dir = os.path.join(base_dir, 'val')\n",
        "test_dir = os.path.join(base_dir, 'test')\n",
        "\n",
        "label = [\n",
        "  'circle',\n",
        "  'kite',\n",
        "  'parallelogram',\n",
        "  'square',\n",
        "  'trapezoid',\n",
        "  'triangle'\n",
        "]\n",
        "\n",
        "for lb in label:\n",
        "  print(\"{} : train({}), test({}), val({})\".format(\n",
        "      lb,\n",
        "      len(os.listdir(os.path.join(train_dir, lb))),\n",
        "      len(os.listdir(os.path.join(test_dir, lb))),\n",
        "      len(os.listdir(os.path.join(val_dir, lb)))\n",
        "  ))"
      ],
      "execution_count": 6,
      "outputs": [
        {
          "output_type": "stream",
          "text": [
            "circle : train(1500), test(250), val(250)\n",
            "kite : train(1500), test(250), val(250)\n",
            "parallelogram : train(1500), test(250), val(250)\n",
            "square : train(1500), test(250), val(250)\n",
            "trapezoid : train(1500), test(250), val(250)\n",
            "triangle : train(1500), test(250), val(250)\n"
          ],
          "name": "stdout"
        }
      ]
    },
    {
      "cell_type": "markdown",
      "metadata": {
        "id": "KvJmb4HK976z"
      },
      "source": [
        "### Transform Dataset\n",
        "Reference for batch size, epoch, and learning rate :  \n",
        "https://medium.com/mini-distill/effect-of-batch-size-on-training-dynamics-21c14f7a716e  "
      ]
    },
    {
      "cell_type": "code",
      "metadata": {
        "id": "HaTP3axV-D_x"
      },
      "source": [
        "# Corresponds to a lot of data\n",
        "batch_train = 32\n",
        "batch_val = 16\n",
        "batch_test = 16\n",
        "size_input = (224, 224)"
      ],
      "execution_count": 7,
      "outputs": []
    },
    {
      "cell_type": "markdown",
      "metadata": {
        "id": "a_7n0MiF8rMN"
      },
      "source": [
        "#### Augmentation"
      ]
    },
    {
      "cell_type": "code",
      "metadata": {
        "id": "Gz6WICbfIBKa"
      },
      "source": [
        "# Normalize\n",
        "train_datagen = ImageDataGenerator(\n",
        "    rescale=1./255.,\n",
        "    rotation_range=40,\n",
        "    width_shift_range=0.2,\n",
        "    height_shift_range=0.2,\n",
        "    shear_range=0.2,\n",
        "    zoom_range=0.2,\n",
        "    horizontal_flip=True,\n",
        "    fill_mode='nearest'\n",
        ")\n",
        "val_datagen = ImageDataGenerator(rescale=1./255.)\n",
        "test_datagen = ImageDataGenerator(rescale=1./255.)"
      ],
      "execution_count": 8,
      "outputs": []
    },
    {
      "cell_type": "markdown",
      "metadata": {
        "id": "cIm9N_W_NvaE"
      },
      "source": [
        "### Load Dataset"
      ]
    },
    {
      "cell_type": "code",
      "metadata": {
        "colab": {
          "base_uri": "https://localhost:8080/"
        },
        "id": "uUNIx3nRMbZL",
        "outputId": "f3ec2d65-e1be-4b4d-b926-9157446637f5"
      },
      "source": [
        "train_generator = train_datagen.flow_from_directory(\n",
        "    directory=train_dir,\n",
        "    batch_size=batch_train,\n",
        "    class_mode='categorical',\n",
        "    target_size=size_input\n",
        ")\n",
        "\n",
        "val_generator = train_datagen.flow_from_directory(\n",
        "    directory=val_dir,\n",
        "    batch_size=batch_val,\n",
        "    class_mode='categorical',\n",
        "    target_size=size_input\n",
        ")\n",
        "\n",
        "test_generator = test_datagen.flow_from_directory(\n",
        "    directory=test_dir,\n",
        "    batch_size=batch_test,\n",
        "    class_mode='categorical',\n",
        "    target_size=size_input\n",
        ")"
      ],
      "execution_count": 9,
      "outputs": [
        {
          "output_type": "stream",
          "text": [
            "Found 9000 images belonging to 6 classes.\n",
            "Found 1500 images belonging to 6 classes.\n",
            "Found 1500 images belonging to 6 classes.\n"
          ],
          "name": "stdout"
        }
      ]
    },
    {
      "cell_type": "markdown",
      "metadata": {
        "id": "U2280y3pNm6K"
      },
      "source": [
        "#### Visualize Data\n"
      ]
    },
    {
      "cell_type": "code",
      "metadata": {
        "colab": {
          "base_uri": "https://localhost:8080/",
          "height": 229
        },
        "id": "IDG6dSTGNjA4",
        "outputId": "63ec6294-1be9-4267-958c-f5ceb950bd8a"
      },
      "source": [
        "# Take a sample batch file\n",
        "idx_train = random.randrange(len(train_generator))\n",
        "idx_val = random.randrange(len(val_generator))\n",
        "idx_test = random.randrange(len(test_generator))\n",
        "\n",
        "# Displays an image with label for the train, test and val generator\n",
        "list_train_img, list_train_lb = train_generator[idx_train]\n",
        "list_val_img, list_val_lb = val_generator[idx_val]\n",
        "list_test_img, list_test_lb = val_generator[idx_test]\n",
        "\n",
        "# The number of images must be less than or equal to the batch size\n",
        "def show_img_horizontal(title, color, list_img, list_lb, num_img):\n",
        "  fig = plt.figure(figsize=(12,1.8), facecolor=color)\n",
        "  fig.suptitle(title, fontsize='x-large')\n",
        "  axs = fig.subplots(1, num_img)\n",
        "  fig.subplots_adjust(left=0, bottom=0, right=1, top=1, wspace=0, hspace=0)\n",
        "  for i in range(num_img):\n",
        "    axs[i].imshow(list_img[i])\n",
        "    axs[i].axis('off')\n",
        "    axs[i].title.set_text(np.argmax(list_lb[i]))\n",
        "\n",
        "# Show image in train generator\n",
        "show_img_horizontal(\n",
        "    'Sample Batch in Train Generator',\n",
        "    'palegreen',\n",
        "    list_train_img,\n",
        "    list_train_lb,\n",
        "    batch_train\n",
        ")\n",
        "\n",
        "# Show image in val generator\n",
        "show_img_horizontal(\n",
        "    'Sample Batch in Val Generator',\n",
        "    'springgreen',\n",
        "    list_val_img,\n",
        "    list_val_lb,\n",
        "    batch_val\n",
        ")\n",
        "\n",
        "# Show image in test generator\n",
        "show_img_horizontal(\n",
        "    'Sample Batch in Test Generator',\n",
        "    'mediumspringgreen',\n",
        "    list_test_img,\n",
        "    list_test_lb,\n",
        "    batch_test\n",
        ")"
      ],
      "execution_count": 10,
      "outputs": [
        {
          "output_type": "display_data",
          "data": {
            "image/png": "[encoded data removed]",
            "text/plain": [
              "<Figure size 864x129.6 with 32 Axes>"
            ]
          },
          "metadata": {}
        },
        {
          "output_type": "display_data",
          "data": {
            "image/png": "[encoded data removed]",
            "text/plain": [
              "<Figure size 864x129.6 with 16 Axes>"
            ]
          },
          "metadata": {}
        },
        {
          "output_type": "display_data",
          "data": {
            "image/png": "[encoded data removed]",
            "text/plain": [
              "<Figure size 864x129.6 with 16 Axes>"
            ]
          },
          "metadata": {}
        }
      ]
    },
    {
      "cell_type": "markdown",
      "metadata": {
        "id": "lp2zmmZnOWib"
      },
      "source": [
        "<table>\n",
        "  <tr>\n",
        "    <th colspan=\"6\">Label Code</th>\n",
        "  </tr>\n",
        "  <tr align=\"center\">\n",
        "    <td>0</td>\n",
        "    <td>1</td>\n",
        "    <td>2</td>\n",
        "    <td>3</td>\n",
        "    <td>4</td>\n",
        "    <td>5</td>\n",
        "  </tr>\n",
        "  <tr>\n",
        "    <td>Circle</td>\n",
        "    <td>Kite</td>\n",
        "    <td>Parallelogram</td>\n",
        "    <td>Square</td>\n",
        "    <td>Trapezoid</td>\n",
        "    <td>Triangle</td>\n",
        "  </tr>\n",
        "</table>"
      ]
    },
    {
      "cell_type": "markdown",
      "metadata": {
        "id": "q0xAbu8OPn45"
      },
      "source": [
        "## Define Model with Basic CNN and DNN"
      ]
    },
    {
      "cell_type": "code",
      "metadata": {
        "colab": {
          "base_uri": "https://localhost:8080/"
        },
        "id": "H1wp_ie2d0yc",
        "outputId": "aed0c58c-3a0e-4d2d-8594-3e701ab9dc3b"
      },
      "source": [
        "model = tf.keras.models.Sequential([\n",
        "    # CNN\n",
        "    tf.keras.layers.Conv2D(8, (5,5), activation='relu', input_shape=size_input+(3,)),\n",
        "    tf.keras.layers.MaxPooling2D(2,2),\n",
        "    tf.keras.layers.Conv2D(16, (5,5), activation='relu'),\n",
        "    tf.keras.layers.MaxPooling2D(2,2),\n",
        "    tf.keras.layers.Conv2D(16, (5,5), activation='relu'),\n",
        "    tf.keras.layers.MaxPooling2D(2,2),\n",
        "    # DNN\n",
        "    tf.keras.layers.Flatten(),\n",
        "    tf.keras.layers.Dropout(0.5),\n",
        "    tf.keras.layers.Dense(128, activation='relu'),\n",
        "    tf.keras.layers.Dense(6, activation='softmax')\n",
        "])\n",
        "model.summary()"
      ],
      "execution_count": 20,
      "outputs": [
        {
          "output_type": "stream",
          "text": [
            "Model: \"sequential_1\"\n",
            "_________________________________________________________________\n",
            "Layer (type)                 Output Shape              Param #   \n",
            "=================================================================\n",
            "conv2d_3 (Conv2D)            (None, 220, 220, 8)       608       \n",
            "_________________________________________________________________\n",
            "max_pooling2d_3 (MaxPooling2 (None, 110, 110, 8)       0         \n",
            "_________________________________________________________________\n",
            "conv2d_4 (Conv2D)            (None, 106, 106, 16)      3216      \n",
            "_________________________________________________________________\n",
            "max_pooling2d_4 (MaxPooling2 (None, 53, 53, 16)        0         \n",
            "_________________________________________________________________\n",
            "conv2d_5 (Conv2D)            (None, 49, 49, 16)        6416      \n",
            "_________________________________________________________________\n",
            "max_pooling2d_5 (MaxPooling2 (None, 24, 24, 16)        0         \n",
            "_________________________________________________________________\n",
            "flatten_1 (Flatten)          (None, 9216)              0         \n",
            "_________________________________________________________________\n",
            "dropout_1 (Dropout)          (None, 9216)              0         \n",
            "_________________________________________________________________\n",
            "dense_2 (Dense)              (None, 128)               1179776   \n",
            "_________________________________________________________________\n",
            "dense_3 (Dense)              (None, 6)                 774       \n",
            "=================================================================\n",
            "Total params: 1,190,790\n",
            "Trainable params: 1,190,790\n",
            "Non-trainable params: 0\n",
            "_________________________________________________________________\n"
          ],
          "name": "stdout"
        }
      ]
    },
    {
      "cell_type": "code",
      "metadata": {
        "id": "FzEPRLlIPmBO"
      },
      "source": [
        "model.compile(\n",
        "    optimizer='adam',\n",
        "    loss='categorical_crossentropy',\n",
        "    metrics=['acc']\n",
        ")"
      ],
      "execution_count": 21,
      "outputs": []
    },
    {
      "cell_type": "markdown",
      "metadata": {
        "id": "XX0X8HAK9y8x"
      },
      "source": [
        "### Training Model"
      ]
    },
    {
      "cell_type": "code",
      "metadata": {
        "id": "jP1rbPZDP5sl"
      },
      "source": [
        "class callback_acc(tf.keras.callbacks.Callback):\n",
        "  def on_epoch_end(self, epoch, logs={}):\n",
        "    if(logs.get('acc') > 0.98 or logs.get('val_acc') > 0.98):\n",
        "      self.model.stop_training = True\n",
        "\n",
        "callback_acc = callback_acc()\n",
        "callback_es = tf.keras.callbacks.EarlyStopping(monitor='loss', patience=3)"
      ],
      "execution_count": 18,
      "outputs": []
    },
    {
      "cell_type": "code",
      "metadata": {
        "colab": {
          "base_uri": "https://localhost:8080/"
        },
        "id": "hN5SA4a3Qixl",
        "outputId": "d45a9240-b6f9-4190-cdf2-d9abb5568708"
      },
      "source": [
        "history = model.fit(\n",
        "    train_generator,\n",
        "    epochs=10,\n",
        "    steps_per_epoch=len(train_generator),\n",
        "    validation_data=val_generator,\n",
        "    validation_steps=len(val_generator),\n",
        "    callbacks=[callback_acc, callback_es],\n",
        "    verbose=1\n",
        ")"
      ],
      "execution_count": 22,
      "outputs": [
        {
          "output_type": "stream",
          "text": [
            "Epoch 1/10\n",
            "282/282 [==============================] - 110s 390ms/step - loss: 1.3247 - acc: 0.4484 - val_loss: 0.9627 - val_acc: 0.6300\n",
            "Epoch 2/10\n",
            "282/282 [==============================] - 111s 393ms/step - loss: 0.7395 - acc: 0.7263 - val_loss: 0.4810 - val_acc: 0.8193\n",
            "Epoch 3/10\n",
            "282/282 [==============================] - 109s 387ms/step - loss: 0.4343 - acc: 0.8486 - val_loss: 0.3318 - val_acc: 0.8867\n",
            "Epoch 4/10\n",
            "282/282 [==============================] - 109s 386ms/step - loss: 0.3278 - acc: 0.8878 - val_loss: 0.2258 - val_acc: 0.9347\n",
            "Epoch 5/10\n",
            "282/282 [==============================] - 108s 385ms/step - loss: 0.2561 - acc: 0.9112 - val_loss: 0.2001 - val_acc: 0.9300\n",
            "Epoch 6/10\n",
            "282/282 [==============================] - 109s 386ms/step - loss: 0.2300 - acc: 0.9232 - val_loss: 0.1805 - val_acc: 0.9453\n",
            "Epoch 7/10\n",
            "282/282 [==============================] - 110s 390ms/step - loss: 0.1997 - acc: 0.9301 - val_loss: 0.1500 - val_acc: 0.9413\n",
            "Epoch 8/10\n",
            "282/282 [==============================] - 110s 392ms/step - loss: 0.1793 - acc: 0.9399 - val_loss: 0.1319 - val_acc: 0.9553\n",
            "Epoch 9/10\n",
            "282/282 [==============================] - 110s 391ms/step - loss: 0.1757 - acc: 0.9394 - val_loss: 0.1186 - val_acc: 0.9587\n",
            "Epoch 10/10\n",
            "282/282 [==============================] - 111s 393ms/step - loss: 0.1718 - acc: 0.9432 - val_loss: 0.1156 - val_acc: 0.9580\n"
          ],
          "name": "stdout"
        }
      ]
    },
    {
      "cell_type": "markdown",
      "metadata": {
        "id": "QXQ9PZIZ_J24"
      },
      "source": [
        "### Plot Accuracy and Lose"
      ]
    },
    {
      "cell_type": "code",
      "metadata": {
        "colab": {
          "base_uri": "https://localhost:8080/",
          "height": 545
        },
        "id": "t6GcxSCH_H47",
        "outputId": "a7d9cf1e-1878-4ff0-e1db-527e01c9f2bb"
      },
      "source": [
        "acc = history.history['acc']\n",
        "val_acc = history.history['val_acc']\n",
        "loss = history.history['loss']\n",
        "val_loss = history.history['val_loss']\n",
        "\n",
        "epochs=range(len(acc))\n",
        "\n",
        "# Plot training and validation accuracy per epoch\n",
        "plt.plot(epochs, acc, 'r', label=\"Training Accuracy\")\n",
        "plt.plot(epochs, val_acc, 'b', label=\"Validation Accuracy\")\n",
        "plt.title('Training and validation accuracy')\n",
        "plt.legend()\n",
        "plt.figure()\n",
        "\n",
        "# Plot training and validation loss per epoch\n",
        "plt.plot(epochs, loss, 'r', label=\"Training Loss\")\n",
        "plt.plot(epochs, val_loss, 'b', label=\"Validation Loss\")\n",
        "plt.title('Training and validation loss')\n",
        "plt.legend()\n",
        "plt.show()"
      ],
      "execution_count": 23,
      "outputs": [
        {
          "output_type": "display_data",
          "data": {
            "image/png": "[encoded data removed]",
            "text/plain": [
              "<Figure size 432x288 with 1 Axes>"
            ]
          },
          "metadata": {
            "needs_background": "light"
          }
        },
        {
          "output_type": "display_data",
          "data": {
            "image/png": "[encoded data removed]",
            "text/plain": [
              "<Figure size 432x288 with 1 Axes>"
            ]
          },
          "metadata": {
            "needs_background": "light"
          }
        }
      ]
    },
    {
      "cell_type": "markdown",
      "metadata": {
        "id": "-mA_WDcA_gQ9"
      },
      "source": [
        "### Test Accuracy Model"
      ]
    },
    {
      "cell_type": "code",
      "metadata": {
        "colab": {
          "base_uri": "https://localhost:8080/"
        },
        "id": "mvi79bPX_j8o",
        "outputId": "8a5905f6-bc25-473a-e87f-38d3916e57c4"
      },
      "source": [
        "loss = model.evaluate(test_generator, steps=len(test_generator))"
      ],
      "execution_count": 24,
      "outputs": [
        {
          "output_type": "stream",
          "text": [
            "94/94 [==============================] - 2s 22ms/step - loss: 0.0320 - acc: 0.9940\n"
          ],
          "name": "stdout"
        }
      ]
    },
    {
      "cell_type": "markdown",
      "metadata": {
        "id": "QyvC-4Jx_gAu"
      },
      "source": [
        "#### Visualize accuracy each label or class with confusion matrix \n",
        "reference : https://datatofish.com/confusion-matrix-python/"
      ]
    },
    {
      "cell_type": "code",
      "metadata": {
        "colab": {
          "base_uri": "https://localhost:8080/"
        },
        "id": "y8MfF2jb_7BS",
        "outputId": "812769d3-3d98-4dd3-f252-de5c15b0de3a"
      },
      "source": [
        "# Create new test generator with shuffle=False\n",
        "new_test_generator = test_datagen.flow_from_directory(\n",
        "    directory=test_dir,\n",
        "    batch_size=batch_test,\n",
        "    class_mode='categorical',\n",
        "    target_size=size_input,\n",
        "    shuffle=False # important part\n",
        ")\n",
        "new_test_generator.classes"
      ],
      "execution_count": 26,
      "outputs": [
        {
          "output_type": "stream",
          "text": [
            "Found 1500 images belonging to 6 classes.\n"
          ],
          "name": "stdout"
        },
        {
          "output_type": "execute_result",
          "data": {
            "text/plain": [
              "array([0, 0, 0, ..., 5, 5, 5], dtype=int32)"
            ]
          },
          "metadata": {},
          "execution_count": 26
        }
      ]
    },
    {
      "cell_type": "code",
      "metadata": {
        "id": "EuT14_aIABxn"
      },
      "source": [
        "predictions = model.predict(new_test_generator, steps=len(new_test_generator))"
      ],
      "execution_count": 27,
      "outputs": []
    },
    {
      "cell_type": "code",
      "metadata": {
        "id": "jBdIOx3RAEOl"
      },
      "source": [
        "# [FIXED] Problem order classes with set shuffle=False in test_generator\n",
        "predictions_lb = np.argmax(predictions,axis=1)"
      ],
      "execution_count": 28,
      "outputs": []
    },
    {
      "cell_type": "code",
      "metadata": {
        "colab": {
          "base_uri": "https://localhost:8080/"
        },
        "id": "1-DAYV-fAGG4",
        "outputId": "d9d65dfe-2cde-4775-8175-45c1012d8f06"
      },
      "source": [
        "labels = new_test_generator.classes\n",
        "confusion_matrix = tf.math.confusion_matrix(labels, predictions_lb)\n",
        "print(confusion_matrix)"
      ],
      "execution_count": 29,
      "outputs": [
        {
          "output_type": "stream",
          "text": [
            "tf.Tensor(\n",
            "[[250   0   0   0   0   0]\n",
            " [  0 244   0   4   0   2]\n",
            " [  0   0 249   1   0   0]\n",
            " [  0   0   0 250   0   0]\n",
            " [  0   1   0   0 248   1]\n",
            " [  0   0   0   0   0 250]], shape=(6, 6), dtype=int32)\n"
          ],
          "name": "stdout"
        }
      ]
    },
    {
      "cell_type": "code",
      "metadata": {
        "colab": {
          "base_uri": "https://localhost:8080/",
          "height": 497
        },
        "id": "qRqBFpFIAIsg",
        "outputId": "c09220bd-bda1-46bb-8f57-173218d626ba"
      },
      "source": [
        "data = {'y_Actual': labels,\n",
        "        'y_Predicted': predictions_lb\n",
        "        }\n",
        "\n",
        "df = pd.DataFrame(data, columns=['y_Actual','y_Predicted'])\n",
        "confusion_matrix = pd.crosstab(df['y_Actual'], df['y_Predicted'], rownames=['Actual'], colnames=['Predicted'], margins = True)\n",
        "plt.figure(figsize = (8,8))\n",
        "sn.heatmap(confusion_matrix, annot=True)\n",
        "plt.show()"
      ],
      "execution_count": 30,
      "outputs": [
        {
          "output_type": "display_data",
          "data": {
            "image/png": "[encoded data removed]",
            "text/plain": [
              "<Figure size 576x576 with 2 Axes>"
            ]
          },
          "metadata": {
            "needs_background": "light"
          }
        }
      ]
    },
    {
      "cell_type": "markdown",
      "metadata": {
        "id": "5NyE6NT8FoPx"
      },
      "source": [
        "<table>\n",
        "  <tr>\n",
        "    <th colspan=\"6\">Label Code</th>\n",
        "  </tr>\n",
        "  <tr align=\"center\">\n",
        "    <td>0</td>\n",
        "    <td>1</td>\n",
        "    <td>2</td>\n",
        "    <td>3</td>\n",
        "    <td>4</td>\n",
        "    <td>5</td>\n",
        "  </tr>\n",
        "  <tr>\n",
        "    <td>Circle</td>\n",
        "    <td>Kite</td>\n",
        "    <td>Parallelogram</td>\n",
        "    <td>Square</td>\n",
        "    <td>Trapezoid</td>\n",
        "    <td>Triangle</td>\n",
        "  </tr>\n",
        "</table>"
      ]
    },
    {
      "cell_type": "markdown",
      "metadata": {
        "id": "yYu-tp0fANGS"
      },
      "source": [
        "More Details"
      ]
    },
    {
      "cell_type": "code",
      "metadata": {
        "colab": {
          "base_uri": "https://localhost:8080/"
        },
        "id": "MKjwoYedAQDr",
        "outputId": "f7bc0f94-2755-44dd-b3eb-6be366ea1f36"
      },
      "source": [
        "report = metrics.classification_report(\n",
        "    labels, \n",
        "    predictions_lb, \n",
        "    target_names=label\n",
        ")\n",
        "print(report)"
      ],
      "execution_count": 31,
      "outputs": [
        {
          "output_type": "stream",
          "text": [
            "               precision    recall  f1-score   support\n",
            "\n",
            "       circle       1.00      1.00      1.00       250\n",
            "         kite       1.00      0.98      0.99       250\n",
            "parallelogram       1.00      1.00      1.00       250\n",
            "       square       0.98      1.00      0.99       250\n",
            "    trapezoid       1.00      0.99      1.00       250\n",
            "     triangle       0.99      1.00      0.99       250\n",
            "\n",
            "     accuracy                           0.99      1500\n",
            "    macro avg       0.99      0.99      0.99      1500\n",
            " weighted avg       0.99      0.99      0.99      1500\n",
            "\n"
          ],
          "name": "stdout"
        }
      ]
    },
    {
      "cell_type": "markdown",
      "metadata": {
        "id": "SxXTyiUV_E6f"
      },
      "source": [
        "====================================="
      ]
    },
    {
      "cell_type": "code",
      "metadata": {
        "colab": {
          "base_uri": "https://localhost:8080/"
        },
        "id": "78hvXO8BdmyS",
        "outputId": "3aa0b07f-0e15-4b8b-a447-5332426e1a55"
      },
      "source": [
        "loss = model.evaluate(test_generator, steps=len(test_generator))"
      ],
      "execution_count": null,
      "outputs": [
        {
          "output_type": "stream",
          "text": [
            "94/94 [==============================] - 2s 22ms/step - loss: 0.0633 - acc: 0.9827\n"
          ],
          "name": "stdout"
        }
      ]
    },
    {
      "cell_type": "markdown",
      "metadata": {
        "id": "DGAqkfCeF2cJ"
      },
      "source": [
        "## Exporting and Optimization to TFJs\n",
        "Reference :  \n",
        "- https://medium.com/hackernoon/tf-serving-keras-mobilenetv2-632b8d92983c\n",
        "- https://itnext.io/shrink-your-tensorflow-js-web-model-size-with-weight-quantization-6ddb4fcb6d0d"
      ]
    },
    {
      "cell_type": "code",
      "metadata": {
        "id": "L-shFpcJpv0p"
      },
      "source": [
        "# Specifies the model directory\n",
        "model_dir = '/tmp/model'\n",
        "try:\n",
        "  os.mkdir(model_dir)\n",
        "except OSError as e:\n",
        "  print(\"\\nUnable create directory. {}\".format(e))"
      ],
      "execution_count": 32,
      "outputs": []
    },
    {
      "cell_type": "code",
      "metadata": {
        "id": "JHCN4SFJp6SZ"
      },
      "source": [
        "# Save model .h5\n",
        "model_name = \"model_mbv2\"\n",
        "model.save(model_dir+f\"/{model_name}.h5\")"
      ],
      "execution_count": 33,
      "outputs": []
    },
    {
      "cell_type": "code",
      "metadata": {
        "colab": {
          "base_uri": "https://localhost:8080/",
          "height": 35
        },
        "id": "aSfL7_sbqDfd",
        "outputId": "6b13c1b4-5599-4981-8ae8-90e1d753232f"
      },
      "source": [
        "# Download model .h5, for backup\n",
        "files.download('/tmp/model/model_mbv2.h5')\n",
        "\n",
        "print('`model_mbv2.h5` has been downloaded')"
      ],
      "execution_count": 34,
      "outputs": [
        {
          "output_type": "display_data",
          "data": {
            "application/javascript": [
              "\n",
              "    async function download(id, filename, size) {\n",
              "      if (!google.colab.kernel.accessAllowed) {\n",
              "        return;\n",
              "      }\n",
              "      const div = document.createElement('div');\n",
              "      const label = document.createElement('label');\n",
              "      label.textContent = `Downloading \"${filename}\": `;\n",
              "      div.appendChild(label);\n",
              "      const progress = document.createElement('progress');\n",
              "      progress.max = size;\n",
              "      div.appendChild(progress);\n",
              "      document.body.appendChild(div);\n",
              "\n",
              "      const buffers = [];\n",
              "      let downloaded = 0;\n",
              "\n",
              "      const channel = await google.colab.kernel.comms.open(id);\n",
              "      // Send a message to notify the kernel that we're ready.\n",
              "      channel.send({})\n",
              "\n",
              "      for await (const message of channel.messages) {\n",
              "        // Send a message to notify the kernel that we're ready.\n",
              "        channel.send({})\n",
              "        if (message.buffers) {\n",
              "          for (const buffer of message.buffers) {\n",
              "            buffers.push(buffer);\n",
              "            downloaded += buffer.byteLength;\n",
              "            progress.value = downloaded;\n",
              "          }\n",
              "        }\n",
              "      }\n",
              "      const blob = new Blob(buffers, {type: 'application/binary'});\n",
              "      const a = document.createElement('a');\n",
              "      a.href = window.URL.createObjectURL(blob);\n",
              "      a.download = filename;\n",
              "      div.appendChild(a);\n",
              "      a.click();\n",
              "      div.remove();\n",
              "    }\n",
              "  "
            ],
            "text/plain": [
              "<IPython.core.display.Javascript object>"
            ]
          },
          "metadata": {}
        },
        {
          "output_type": "display_data",
          "data": {
            "application/javascript": [
              "download(\"download_ad9282fa-b03e-408f-813e-2a6375269f5e\", \"model_mbv2.h5\", 14343808)"
            ],
            "text/plain": [
              "<IPython.core.display.Javascript object>"
            ]
          },
          "metadata": {}
        },
        {
          "output_type": "stream",
          "text": [
            "`model_mbv2.h5` has been downloaded\n"
          ],
          "name": "stdout"
        }
      ]
    },
    {
      "cell_type": "markdown",
      "metadata": {
        "id": "6TCQooesGS1S"
      },
      "source": [
        "Export .h5 model to tfjs model  \n",
        "Reference : https://huningxin.github.io/tfjs-converter/"
      ]
    },
    {
      "cell_type": "code",
      "metadata": {
        "id": "5eqChDISqWZY"
      },
      "source": [
        "!tensorflowjs_converter \\\n",
        "    --input_format=keras \\\n",
        "    --output_format=tfjs_layers_model \\\n",
        "    /tmp/model/model_mbv2.h5 \\\n",
        "    /tmp/tfjs_float_model"
      ],
      "execution_count": 35,
      "outputs": []
    },
    {
      "cell_type": "markdown",
      "metadata": {
        "id": "G5bCDjdwGeov"
      },
      "source": [
        "Optimization using quantization  \n",
        "Reference : https://stackoverflow.com/questions/63949766/how-can-i-quantize-a-keras-model-while-converting-it-to-a-tensorflowjs-layers-mo\n",
        "\n"
      ]
    },
    {
      "cell_type": "code",
      "metadata": {
        "id": "LTOARsl1qdKT"
      },
      "source": [
        "!tensorflowjs_converter \\\n",
        "    --quantize_uint8 \\\n",
        "    --input_format=keras \\\n",
        "    --output_format=tfjs_layers_model \\\n",
        "    /tmp/model/model_mbv2.h5 \\\n",
        "    /tmp/tfjs_quant_model"
      ],
      "execution_count": 36,
      "outputs": []
    },
    {
      "cell_type": "markdown",
      "metadata": {
        "id": "iw_luTguGpP2"
      },
      "source": [
        "### Download TFJs Model"
      ]
    },
    {
      "cell_type": "code",
      "metadata": {
        "colab": {
          "base_uri": "https://localhost:8080/"
        },
        "id": "m6g_HILRqmF1",
        "outputId": "45db8bb2-3124-43d9-c9b6-011f51bb7fd3"
      },
      "source": [
        "!zip -r /tmp/tfjs_float_model.zip /tmp/tfjs_float_model"
      ],
      "execution_count": 37,
      "outputs": [
        {
          "output_type": "stream",
          "text": [
            "  adding: tmp/tfjs_float_model/ (stored 0%)\n",
            "  adding: tmp/tfjs_float_model/group1-shard1of2.bin (deflated 7%)\n",
            "  adding: tmp/tfjs_float_model/model.json (deflated 82%)\n",
            "  adding: tmp/tfjs_float_model/group1-shard2of2.bin (deflated 7%)\n"
          ],
          "name": "stdout"
        }
      ]
    },
    {
      "cell_type": "code",
      "metadata": {
        "colab": {
          "base_uri": "https://localhost:8080/",
          "height": 35
        },
        "id": "Wb_RRqx5qzB6",
        "outputId": "68681cde-b3ec-4a31-93fb-5a0b137842b7"
      },
      "source": [
        "# Download the model\n",
        "files.download('/tmp/tfjs_float_model.zip')\n",
        "\n",
        "print('`tfjs_float_model.zip` has been downloaded')"
      ],
      "execution_count": 38,
      "outputs": [
        {
          "output_type": "display_data",
          "data": {
            "application/javascript": [
              "\n",
              "    async function download(id, filename, size) {\n",
              "      if (!google.colab.kernel.accessAllowed) {\n",
              "        return;\n",
              "      }\n",
              "      const div = document.createElement('div');\n",
              "      const label = document.createElement('label');\n",
              "      label.textContent = `Downloading \"${filename}\": `;\n",
              "      div.appendChild(label);\n",
              "      const progress = document.createElement('progress');\n",
              "      progress.max = size;\n",
              "      div.appendChild(progress);\n",
              "      document.body.appendChild(div);\n",
              "\n",
              "      const buffers = [];\n",
              "      let downloaded = 0;\n",
              "\n",
              "      const channel = await google.colab.kernel.comms.open(id);\n",
              "      // Send a message to notify the kernel that we're ready.\n",
              "      channel.send({})\n",
              "\n",
              "      for await (const message of channel.messages) {\n",
              "        // Send a message to notify the kernel that we're ready.\n",
              "        channel.send({})\n",
              "        if (message.buffers) {\n",
              "          for (const buffer of message.buffers) {\n",
              "            buffers.push(buffer);\n",
              "            downloaded += buffer.byteLength;\n",
              "            progress.value = downloaded;\n",
              "          }\n",
              "        }\n",
              "      }\n",
              "      const blob = new Blob(buffers, {type: 'application/binary'});\n",
              "      const a = document.createElement('a');\n",
              "      a.href = window.URL.createObjectURL(blob);\n",
              "      a.download = filename;\n",
              "      div.appendChild(a);\n",
              "      a.click();\n",
              "      div.remove();\n",
              "    }\n",
              "  "
            ],
            "text/plain": [
              "<IPython.core.display.Javascript object>"
            ]
          },
          "metadata": {}
        },
        {
          "output_type": "display_data",
          "data": {
            "application/javascript": [
              "download(\"download_6e052730-2eed-4737-916a-e78557d39f6c\", \"tfjs_float_model.zip\", 4425416)"
            ],
            "text/plain": [
              "<IPython.core.display.Javascript object>"
            ]
          },
          "metadata": {}
        },
        {
          "output_type": "stream",
          "text": [
            "`tfjs_float_model.zip` has been downloaded\n"
          ],
          "name": "stdout"
        }
      ]
    },
    {
      "cell_type": "code",
      "metadata": {
        "colab": {
          "base_uri": "https://localhost:8080/"
        },
        "id": "9879r1byq9_4",
        "outputId": "482d3949-b6d2-46a4-8299-a3385baac4ed"
      },
      "source": [
        "!zip -r /tmp/tfjs_quant_model.zip /tmp/tfjs_quant_model"
      ],
      "execution_count": 39,
      "outputs": [
        {
          "output_type": "stream",
          "text": [
            "  adding: tmp/tfjs_quant_model/ (stored 0%)\n",
            "  adding: tmp/tfjs_quant_model/model.json (deflated 81%)\n",
            "  adding: tmp/tfjs_quant_model/group1-shard1of1.bin (deflated 20%)\n"
          ],
          "name": "stdout"
        }
      ]
    },
    {
      "cell_type": "code",
      "metadata": {
        "colab": {
          "base_uri": "https://localhost:8080/",
          "height": 35
        },
        "id": "zRFAsKHIrAI-",
        "outputId": "e1bd55a7-ee17-46de-f2d3-05923466ffba"
      },
      "source": [
        "# Download the model\n",
        "files.download('/tmp/tfjs_quant_model.zip')\n",
        "\n",
        "print('`tfjs_quant_model.zip` has been downloaded')"
      ],
      "execution_count": 40,
      "outputs": [
        {
          "output_type": "display_data",
          "data": {
            "application/javascript": [
              "\n",
              "    async function download(id, filename, size) {\n",
              "      if (!google.colab.kernel.accessAllowed) {\n",
              "        return;\n",
              "      }\n",
              "      const div = document.createElement('div');\n",
              "      const label = document.createElement('label');\n",
              "      label.textContent = `Downloading \"${filename}\": `;\n",
              "      div.appendChild(label);\n",
              "      const progress = document.createElement('progress');\n",
              "      progress.max = size;\n",
              "      div.appendChild(progress);\n",
              "      document.body.appendChild(div);\n",
              "\n",
              "      const buffers = [];\n",
              "      let downloaded = 0;\n",
              "\n",
              "      const channel = await google.colab.kernel.comms.open(id);\n",
              "      // Send a message to notify the kernel that we're ready.\n",
              "      channel.send({})\n",
              "\n",
              "      for await (const message of channel.messages) {\n",
              "        // Send a message to notify the kernel that we're ready.\n",
              "        channel.send({})\n",
              "        if (message.buffers) {\n",
              "          for (const buffer of message.buffers) {\n",
              "            buffers.push(buffer);\n",
              "            downloaded += buffer.byteLength;\n",
              "            progress.value = downloaded;\n",
              "          }\n",
              "        }\n",
              "      }\n",
              "      const blob = new Blob(buffers, {type: 'application/binary'});\n",
              "      const a = document.createElement('a');\n",
              "      a.href = window.URL.createObjectURL(blob);\n",
              "      a.download = filename;\n",
              "      div.appendChild(a);\n",
              "      a.click();\n",
              "      div.remove();\n",
              "    }\n",
              "  "
            ],
            "text/plain": [
              "<IPython.core.display.Javascript object>"
            ]
          },
          "metadata": {}
        },
        {
          "output_type": "display_data",
          "data": {
            "application/javascript": [
              "download(\"download_151dbf17-3a49-4cd1-9ecc-c62189872c4a\", \"tfjs_quant_model.zip\", 955355)"
            ],
            "text/plain": [
              "<IPython.core.display.Javascript object>"
            ]
          },
          "metadata": {}
        },
        {
          "output_type": "stream",
          "text": [
            "`tfjs_quant_model.zip` has been downloaded\n"
          ],
          "name": "stdout"
        }
      ]
    }
  ]
}