{
  "nbformat": 4,
  "nbformat_minor": 0,
  "metadata": {
    "colab": {
      "name": "dataset-maker.ipynb",
      "provenance": [],
      "collapsed_sections": []
    },
    "kernelspec": {
      "name": "python3",
      "display_name": "Python 3"
    },
    "language_info": {
      "name": "python"
    }
  },
  "cells": [
    {
      "cell_type": "markdown",
      "metadata": {
        "id": "cxAbe5eFg80g"
      },
      "source": [
        "# Dataset Maker - Six Shapes\n",
        "More info: https://github.com/reevald/MathEdu\n",
        "## Dataset Information\n",
        "\n",
        "- The data set consists of 6 classes, namely circle, kite, parallelogram, square, trapezoid, triangle.\n",
        "- Each class consists of 2000 images with 224x224x3 pixels\n",
        "- Train:Validation:Test ~ 6:1:1 ~ 1500:250:250"
      ]
    },
    {
      "cell_type": "markdown",
      "metadata": {
        "id": "PjrepC8IiIDI"
      },
      "source": [
        "## Import Libraries"
      ]
    },
    {
      "cell_type": "code",
      "metadata": {
        "id": "1mQ5TnpcV5px"
      },
      "source": [
        "import os\n",
        "import zipfile\n",
        "import random\n",
        "import math\n",
        "from google.colab import files\n",
        "from PIL import Image, ImageDraw"
      ],
      "execution_count": null,
      "outputs": []
    },
    {
      "cell_type": "markdown",
      "metadata": {
        "id": "jnQ-L_KEiLvG"
      },
      "source": [
        "## Folder preparation"
      ]
    },
    {
      "cell_type": "code",
      "metadata": {
        "id": "sFgkgf5YjZOA"
      },
      "source": [
        "label = ['circle','kite','parallelogram','square','trapezoid','triangle']\n",
        "base_dir = '/tmp/six-shapes'\n",
        "train_dir = os.path.join(base_dir, 'train')\n",
        "val_dir = os.path.join(base_dir, 'val')\n",
        "test_dir = os.path.join(base_dir, 'test')"
      ],
      "execution_count": null,
      "outputs": []
    },
    {
      "cell_type": "code",
      "metadata": {
        "colab": {
          "base_uri": "https://localhost:8080/"
        },
        "id": "uVmTkq40EVZq",
        "outputId": "5aa3074e-6b1c-437b-96fb-947b31d2b01e"
      },
      "source": [
        "# Create directory\n",
        "try:\n",
        "  os.mkdir(base_dir)\n",
        "  for par_dir in [train_dir, val_dir, test_dir]:\n",
        "    os.mkdir(par_dir)\n",
        "    for ch_dir in [os.path.join(par_dir, lb) for lb in label]:\n",
        "      os.mkdir(ch_dir)\n",
        "  print('\\nCreate directory successfully!')\n",
        "except OSError as err:\n",
        "  print('\\nUnable create directory, {}'.format(err))"
      ],
      "execution_count": null,
      "outputs": [
        {
          "output_type": "stream",
          "text": [
            "\n",
            "Create directory successfully!\n"
          ],
          "name": "stdout"
        }
      ]
    },
    {
      "cell_type": "markdown",
      "metadata": {
        "id": "jth0wDIAiWgz"
      },
      "source": [
        "## Shape Handler\n",
        "Reference:  \n",
        "- https://pillow.readthedocs.io/en/stable/handbook/concepts.html#coordinate-system\n",
        "- https://pillow.readthedocs.io/en/stable/reference/ImageDraw.html\n",
        "- https://pillow.readthedocs.io/en/stable/handbook/concepts.html#concept-modes\n",
        "- https://pillow.readthedocs.io/en/stable/reference/Image.html#PIL.Image.new"
      ]
    },
    {
      "cell_type": "code",
      "metadata": {
        "id": "l0KeazCaGJda"
      },
      "source": [
        "# global parameter\n",
        "size_img = (224, 224)"
      ],
      "execution_count": null,
      "outputs": []
    },
    {
      "cell_type": "markdown",
      "metadata": {
        "id": "DYQviKpJnbzO"
      },
      "source": [
        "### Circle"
      ]
    },
    {
      "cell_type": "code",
      "metadata": {
        "id": "xbS49ZU_PGhR"
      },
      "source": [
        "def createCircle(width_box, height_box, size_img, width_line, rotate, path_file, show):\n",
        "\n",
        "  # center box position\n",
        "  # (x0, y0) = coordinate upper left of box\n",
        "  # (x1, y1) = coordinate bottom right of box\n",
        "  # size_img = (width_canvas, height_canvas)\n",
        "\n",
        "  x0 = math.floor((size_img[0] - width_box) / 2)\n",
        "  y0 = math.floor((size_img[1] - height_box) / 2)\n",
        "  \n",
        "  x1 = x0 + width_box\n",
        "  y1 = y0 + height_box\n",
        "\n",
        "  im = Image.new(\n",
        "      mode='RGB', # 3 channel (0-255)\n",
        "      size=size_img,\n",
        "      color=(255,255,255) # white background\n",
        "  )\n",
        "\n",
        "  draw = ImageDraw.Draw(im)\n",
        "\n",
        "  draw.ellipse(\n",
        "      xy=[(x0, y0), (x1, y1)],\n",
        "      fill=None,\n",
        "      outline=0, #black\n",
        "      width=width_line\n",
        "  )\n",
        "\n",
        "  im = im.rotate(rotate, fillcolor=(255,255,255))\n",
        "  im.save(path_file)\n",
        "\n",
        "  if show is True:\n",
        "    return im\n"
      ],
      "execution_count": null,
      "outputs": []
    },
    {
      "cell_type": "markdown",
      "metadata": {
        "id": "VxEk9vluHikk"
      },
      "source": [
        "Test random circle"
      ]
    },
    {
      "cell_type": "code",
      "metadata": {
        "colab": {
          "base_uri": "https://localhost:8080/",
          "height": 241
        },
        "id": "gKc1JQvucUzS",
        "outputId": "eb8956fb-9811-45b3-f3dc-50862b19401b"
      },
      "source": [
        "width_box = random.randrange(120, 200)\n",
        "height_box = random.randrange(120, 200)\n",
        "rotate = random.randrange(-40, 40)\n",
        "\n",
        "# Test random circle size\n",
        "createCircle(\n",
        "    width_box=width_box,\n",
        "    height_box=height_box,\n",
        "    size_img=size_img,\n",
        "    width_line=10,\n",
        "    rotate=rotate,\n",
        "    path_file='/tmp/sample-circle.png',\n",
        "    show=True\n",
        ")"
      ],
      "execution_count": null,
      "outputs": [
        {
          "output_type": "execute_result",
          "data": {
            "image/png": "[encoded data removed]",
            "text/plain": [
              "<PIL.Image.Image image mode=RGB size=224x224 at 0x7F2903363FD0>"
            ]
          },
          "metadata": {},
          "execution_count": 11
        }
      ]
    },
    {
      "cell_type": "markdown",
      "metadata": {
        "id": "c5FNIgHjoAPS"
      },
      "source": [
        "### Kite"
      ]
    },
    {
      "cell_type": "code",
      "metadata": {
        "id": "MQdll52mEown"
      },
      "source": [
        "def createKite(diag_horz, diag_vert, size_img, width_line, rotate, path_file, show):\n",
        "\n",
        "  im = Image.new(\n",
        "      mode='RGB',\n",
        "      size=size_img,\n",
        "      color=(255,255,255)\n",
        "  )\n",
        "\n",
        "  # coord y point on diagonal vertical\n",
        "  top_diag_vert = math.floor((size_img[1] - diag_vert) / 2)\n",
        "  mid_diag_vert = math.floor(size_img[1] / 2)\n",
        "  bot_diag_vert = size_img[1] - top_diag_vert\n",
        "\n",
        "  # buff for : top_diag_vert != intercept_diag != mid_diag_vert\n",
        "  buff = 10\n",
        "  intercept_diag = random.randrange(top_diag_vert + 2 * buff, mid_diag_vert - buff)\n",
        "\n",
        "  # coord x point on diagonal horizontal\n",
        "  left_diag_horz = math.floor((size_img[0] - diag_horz) / 2)\n",
        "  mid_diag_horz = math.floor(size_img[0] / 2)\n",
        "  right_diag_horz = size_img[0] - left_diag_horz\n",
        "\n",
        "  draw = ImageDraw.Draw(im)\n",
        "\n",
        "  point = [\n",
        "      (left_diag_horz, intercept_diag),\n",
        "      (mid_diag_horz, top_diag_vert),\n",
        "      (right_diag_horz, intercept_diag),\n",
        "      (mid_diag_horz, bot_diag_vert)\n",
        "  ]\n",
        "\n",
        "  for i,_ in enumerate(point):\n",
        "    j = 0 if (i == 3) else i + 1\n",
        "    draw.line(\n",
        "        xy=[point[i], point[j]],\n",
        "        fill=0,\n",
        "        width=width_line\n",
        "    )\n",
        "\n",
        "  # pretty corners\n",
        "  for p in point:\n",
        "    draw.ellipse(\n",
        "        xy=(p[0] - 4, p[1] - 4, p[0]  + 4, p[1] + 4),\n",
        "        fill=0\n",
        "    )\n",
        "\n",
        "  im = im.rotate(rotate, fillcolor=(255,255,255))\n",
        "  im.save(path_file)\n",
        "\n",
        "  if show is True:\n",
        "    return im"
      ],
      "execution_count": null,
      "outputs": []
    },
    {
      "cell_type": "markdown",
      "metadata": {
        "id": "rumcUyZKIa7M"
      },
      "source": [
        "Test random kite"
      ]
    },
    {
      "cell_type": "code",
      "metadata": {
        "colab": {
          "base_uri": "https://localhost:8080/",
          "height": 241
        },
        "id": "IR6ufmjGTrnN",
        "outputId": "594f07ce-b3b5-46d1-9ac2-f5d0dc821ac3"
      },
      "source": [
        "diag_vert = random.randrange(100, 200)\n",
        "diag_horz = random.randrange(70, 180)\n",
        "rotate = random.randrange(-20, 20)\n",
        "\n",
        "createKite(\n",
        "    diag_horz=diag_horz,\n",
        "    diag_vert=diag_vert,\n",
        "    size_img=size_img,\n",
        "    width_line=10,\n",
        "    rotate=rotate,\n",
        "    path_file='/tmp/sample-kite.png',\n",
        "    show=True\n",
        ")"
      ],
      "execution_count": null,
      "outputs": [
        {
          "output_type": "execute_result",
          "data": {
            "image/png": "[encoded data removed]",
            "text/plain": [
              "<PIL.Image.Image image mode=RGB size=224x224 at 0x7F2903356550>"
            ]
          },
          "metadata": {},
          "execution_count": 13
        }
      ]
    },
    {
      "cell_type": "markdown",
      "metadata": {
        "id": "bz0havaroCpZ"
      },
      "source": [
        "### Parallelogram"
      ]
    },
    {
      "cell_type": "code",
      "metadata": {
        "id": "Q-Rve-G0qBTN"
      },
      "source": [
        "def createParallelogram(top_horz, left_slope, angle_deg, flip, size_img, width_line, rotate, path_file, show):\n",
        "\n",
        "  im = Image.new(\n",
        "      mode='RGB',\n",
        "      size=size_img,\n",
        "      color=(255,255,255)\n",
        "  )\n",
        "\n",
        "  angle_top_left = math.radians(angle_deg) # interval deg (0, 90) or rad (0, pi/2)\n",
        "\n",
        "  # search height and width parallelogram to determine size box frame shape\n",
        "  proj_slope_on_top = left_slope * math.cos(angle_top_left)\n",
        "  height_shape = left_slope * math.sin(angle_top_left)\n",
        "  width_shape = proj_slope_on_top + top_horz\n",
        "\n",
        "  # determine xy coordinate box frame shape\n",
        "  x_left_shape = math.floor((size_img[0] - width_shape) / 2)\n",
        "  y_top_shape = math.floor((size_img[1] - height_shape) / 2)\n",
        "  x_right_shape = size_img[0] - x_left_shape\n",
        "  y_bot_shape = size_img[1] - y_top_shape\n",
        "\n",
        "  point = [\n",
        "      (x_left_shape, y_top_shape),\n",
        "      (x_left_shape + top_horz, y_top_shape),\n",
        "      (x_right_shape, y_bot_shape),\n",
        "      (x_right_shape - top_horz, y_bot_shape)\n",
        "  ]\n",
        "\n",
        "  draw = ImageDraw.Draw(im)\n",
        "\n",
        "  for i,_ in enumerate(point):\n",
        "      j = 0 if (i == 3) else i + 1\n",
        "      draw.line(\n",
        "          xy=[point[i], point[j]],\n",
        "          fill=0,\n",
        "          width=width_line\n",
        "      )\n",
        "\n",
        "  # pretty corners\n",
        "  for p in point:\n",
        "    draw.ellipse(\n",
        "        xy=(p[0] - 4, p[1] - 4, p[0]  + 4, p[1] + 4),\n",
        "        fill=0\n",
        "    )\n",
        "\n",
        "  im = im.rotate(rotate, fillcolor=(255,255,255))\n",
        "  if flip is True:\n",
        "    im = im.transpose(method=Image.FLIP_LEFT_RIGHT)\n",
        "\n",
        "  im.save(path_file)\n",
        "  \n",
        "  if show is True:\n",
        "    return im"
      ],
      "execution_count": null,
      "outputs": []
    },
    {
      "cell_type": "markdown",
      "metadata": {
        "id": "tJvbC3zBIeYA"
      },
      "source": [
        "Test random parallelogram"
      ]
    },
    {
      "cell_type": "code",
      "metadata": {
        "colab": {
          "base_uri": "https://localhost:8080/",
          "height": 241
        },
        "id": "Eo6w3UCYq4eP",
        "outputId": "c7edb576-11e2-4e0e-b2b8-41ac20d72581"
      },
      "source": [
        "left_slope = random.randrange(70, 120)\n",
        "top_horz = random.randrange(70, 120)\n",
        "angle_deg = random.randrange(30, 80)\n",
        "rotate = random.randrange(-5, 5)\n",
        "\n",
        "createParallelogram(\n",
        "    top_horz=top_horz,\n",
        "    left_slope=left_slope,\n",
        "    size_img=size_img,\n",
        "    angle_deg=angle_deg,\n",
        "    flip=True,\n",
        "    width_line=10,\n",
        "    rotate=rotate,\n",
        "    path_file='/tmp/sample-parallelogram.png',\n",
        "    show=True\n",
        ")"
      ],
      "execution_count": null,
      "outputs": [
        {
          "output_type": "execute_result",
          "data": {
            "image/png": "[encoded data removed]",
            "text/plain": [
              "<PIL.Image.Image image mode=RGB size=224x224 at 0x7F290335CFD0>"
            ]
          },
          "metadata": {},
          "execution_count": 15
        }
      ]
    },
    {
      "cell_type": "markdown",
      "metadata": {
        "id": "EGg5y5oqoI0F"
      },
      "source": [
        "### Square"
      ]
    },
    {
      "cell_type": "code",
      "metadata": {
        "id": "mHP4n3JrzDn8"
      },
      "source": [
        "def createSquare(length_shape, size_img, width_line, rotate, path_file, show):\n",
        "\n",
        "  im = Image.new(\n",
        "      mode='RGB',\n",
        "      size=size_img,\n",
        "      color=(255,255,255)\n",
        "  )\n",
        "\n",
        "  y_top_shape = math.floor((size_img[1] - length_shape) / 2) \n",
        "  y_bot_shape = size_img[1] - y_top_shape\n",
        "\n",
        "  x_left_shape = math.floor((size_img[0] - length_shape) / 2)\n",
        "  x_right_shape = size_img[0] - x_left_shape\n",
        "\n",
        "  point = [\n",
        "      (x_left_shape, y_top_shape),\n",
        "      (x_right_shape, y_top_shape),\n",
        "      (x_right_shape, y_bot_shape),\n",
        "      (x_left_shape, y_bot_shape)\n",
        "  ]\n",
        "\n",
        "  draw = ImageDraw.Draw(im)\n",
        "\n",
        "  for i,_ in enumerate(point):\n",
        "      j = 0 if (i == 3) else i + 1\n",
        "      draw.line(\n",
        "          xy=[point[i], point[j]],\n",
        "          fill=0,\n",
        "          width=width_line\n",
        "      )\n",
        "\n",
        "  # pretty corners\n",
        "  for p in point:\n",
        "    draw.ellipse(\n",
        "        xy=(p[0] - 4, p[1] - 4, p[0]  + 4, p[1] + 4),\n",
        "        fill=0\n",
        "    )\n",
        "\n",
        "  im = im.rotate(rotate, fillcolor=(255,255,255))\n",
        "  im.save(path_file)\n",
        "\n",
        "  if show is True:\n",
        "    return im"
      ],
      "execution_count": null,
      "outputs": []
    },
    {
      "cell_type": "markdown",
      "metadata": {
        "id": "FisHKrHvIyKl"
      },
      "source": [
        "Test random square"
      ]
    },
    {
      "cell_type": "code",
      "metadata": {
        "colab": {
          "base_uri": "https://localhost:8080/",
          "height": 241
        },
        "id": "_Gat6w2q0xl2",
        "outputId": "920c1047-7d2e-423f-a5f0-ce9d2c49cc76"
      },
      "source": [
        "length_shape = random.randrange(70, 120)\n",
        "rotate = random.randrange(-10, 10)\n",
        "\n",
        "createSquare(\n",
        "    length_shape=length_shape,\n",
        "    size_img=size_img,\n",
        "    width_line=10,\n",
        "    rotate=rotate,\n",
        "    path_file='/tmp/sample-square.png',\n",
        "    show=True\n",
        ")"
      ],
      "execution_count": null,
      "outputs": [
        {
          "output_type": "execute_result",
          "data": {
            "image/png": "[encoded data removed]",
            "text/plain": [
              "<PIL.Image.Image image mode=RGB size=224x224 at 0x7F290337DC90>"
            ]
          },
          "metadata": {},
          "execution_count": 17
        }
      ]
    },
    {
      "cell_type": "markdown",
      "metadata": {
        "id": "wl9kefTWoMt1"
      },
      "source": [
        "### Trapezoid"
      ]
    },
    {
      "cell_type": "code",
      "metadata": {
        "id": "XawPXs0g7Npb"
      },
      "source": [
        "def createTrapezoid(top_horz, bot_horz, height_shape, flip, size_img, width_line, rotate, path_file, show):\n",
        "\n",
        "  im = Image.new(\n",
        "      mode='RGB',\n",
        "      size=size_img,\n",
        "      color=(255,255,255)\n",
        "  )\n",
        "\n",
        "  y_top_shape = math.floor((size_img[1] - height_shape) / 2)\n",
        "  y_bot_shape = size_img[1] - y_top_shape\n",
        "\n",
        "  x_left_top_shape = math.floor((size_img[0] - top_horz) / 2)\n",
        "  x_right_top_shape = size_img[0] - x_left_top_shape\n",
        "\n",
        "  x_left_bot_shape = math.floor((size_img[0] - bot_horz) / 2)\n",
        "  x_right_bot_shape = size_img[0] - x_left_bot_shape\n",
        "\n",
        "  point = [\n",
        "      (x_left_top_shape, y_top_shape),\n",
        "      (x_right_top_shape, y_top_shape),\n",
        "      (x_right_bot_shape, y_bot_shape),\n",
        "      (x_left_bot_shape, y_bot_shape)\n",
        "  ]\n",
        "\n",
        "  draw = ImageDraw.Draw(im)\n",
        "\n",
        "  for i,_ in enumerate(point):\n",
        "      j = 0 if (i == 3) else i + 1\n",
        "      draw.line(\n",
        "          xy=[point[i], point[j]],\n",
        "          fill=0,\n",
        "          width=width_line\n",
        "      )\n",
        "\n",
        "  # pretty corners\n",
        "  for p in point:\n",
        "    draw.ellipse(\n",
        "        xy=(p[0] - 4, p[1] - 4, p[0]  + 4, p[1] + 4),\n",
        "        fill=0\n",
        "    )\n",
        "\n",
        "  im = im.rotate(rotate, fillcolor=(255,255,255))\n",
        "  if flip is True:\n",
        "    im = im.transpose(method=Image.FLIP_TOP_BOTTOM)\n",
        "\n",
        "  im.save(path_file)\n",
        "\n",
        "  if show is True:\n",
        "    return im"
      ],
      "execution_count": null,
      "outputs": []
    },
    {
      "cell_type": "markdown",
      "metadata": {
        "id": "PmbqPI76I_K5"
      },
      "source": [
        "Test random trapezoid"
      ]
    },
    {
      "cell_type": "code",
      "metadata": {
        "colab": {
          "base_uri": "https://localhost:8080/",
          "height": 241
        },
        "id": "U1GtvvzW8cjS",
        "outputId": "74d39682-9460-40aa-ca17-478caad7996f"
      },
      "source": [
        "top_horz = random.randrange(70, 120)\n",
        "bot_horz = random.randrange(top_horz+50, 200)\n",
        "height_shape = random.randrange(50, 150)\n",
        "rotate = random.randrange(-5, 5)\n",
        "\n",
        "createTrapezoid(\n",
        "    top_horz=top_horz,\n",
        "    bot_horz=bot_horz,\n",
        "    height_shape=height_shape,\n",
        "    size_img=size_img,\n",
        "    flip=True,\n",
        "    width_line=10,\n",
        "    rotate=rotate,\n",
        "    path_file='/tmp/sample-trapezoid.png',\n",
        "    show=True\n",
        ")"
      ],
      "execution_count": null,
      "outputs": [
        {
          "output_type": "execute_result",
          "data": {
            "image/png": "[encoded data removed]",
            "text/plain": [
              "<PIL.Image.Image image mode=RGB size=224x224 at 0x7F2903356B10>"
            ]
          },
          "metadata": {},
          "execution_count": 19
        }
      ]
    },
    {
      "cell_type": "markdown",
      "metadata": {
        "id": "GFLHID6BoOwA"
      },
      "source": [
        "### Triangle"
      ]
    },
    {
      "cell_type": "code",
      "metadata": {
        "id": "vKUri6EioQZl"
      },
      "source": [
        "def createTriangle(height_shape, width_shape, size_img, width_line, rotate, path_file, show):\n",
        "\n",
        "  im = Image.new(\n",
        "      mode='RGB',\n",
        "      size=size_img,\n",
        "      color=(255,255,255)\n",
        "  )\n",
        "\n",
        "  y_top_shape = math.floor((size_img[1] - height_shape) / 2)\n",
        "  y_bot_shape = size_img[1] - y_top_shape\n",
        "\n",
        "  x_min_top = math.floor((size_img[0] - (width_shape / 2)) / 2)\n",
        "  x_max_top = size_img[0] - x_min_top\n",
        "  x_top_shape = random.randrange(x_min_top, x_max_top)\n",
        "\n",
        "  x_left_bot_shape = math.floor((size_img[0] - width_shape) / 2)\n",
        "  x_right_bot_shape = size_img[0] - x_left_bot_shape\n",
        "\n",
        "  point = [\n",
        "      (x_left_bot_shape, y_bot_shape),\n",
        "      (x_top_shape, y_top_shape),\n",
        "      (x_right_bot_shape, y_bot_shape)\n",
        "  ]\n",
        "\n",
        "  draw = ImageDraw.Draw(im)\n",
        "\n",
        "  for i,_ in enumerate(point):\n",
        "      j = 0 if (i == 2) else i + 1\n",
        "      draw.line(\n",
        "          xy=[point[i], point[j]],\n",
        "          fill=0,\n",
        "          width=width_line\n",
        "      )\n",
        "\n",
        "  # pretty corners\n",
        "  for p in point:\n",
        "    draw.ellipse(\n",
        "        xy=(p[0] - 4, p[1] - 4, p[0]  + 4, p[1] + 4),\n",
        "        fill=0\n",
        "    )\n",
        "\n",
        "  im = im.rotate(rotate, fillcolor=(255,255,255))\n",
        "  im.save(path_file)\n",
        "\n",
        "  if show is True:\n",
        "    return im"
      ],
      "execution_count": null,
      "outputs": []
    },
    {
      "cell_type": "markdown",
      "metadata": {
        "id": "R_fkh5yMdPUy"
      },
      "source": [
        "Test random triangle"
      ]
    },
    {
      "cell_type": "code",
      "metadata": {
        "colab": {
          "base_uri": "https://localhost:8080/",
          "height": 241
        },
        "id": "sKlyzt_3GNk9",
        "outputId": "842f35a4-6dd5-479c-c88f-d580247d44a5"
      },
      "source": [
        "height_shape = random.randrange(70, 180)\n",
        "width_shape = random.randrange(70, 180)\n",
        "rotate = random.randrange(-180, 180)\n",
        "\n",
        "createTriangle(\n",
        "    height_shape=height_shape,\n",
        "    width_shape=width_shape,\n",
        "    size_img=size_img,\n",
        "    width_line=10,\n",
        "    rotate=rotate,\n",
        "    path_file='/tmp/sample-triangle.png',\n",
        "    show=True\n",
        ")"
      ],
      "execution_count": null,
      "outputs": [
        {
          "output_type": "execute_result",
          "data": {
            "image/png": "[encoded data removed]",
            "text/plain": [
              "<PIL.Image.Image image mode=RGB size=224x224 at 0x7F2903356C50>"
            ]
          },
          "metadata": {},
          "execution_count": 21
        }
      ]
    },
    {
      "cell_type": "markdown",
      "metadata": {
        "id": "Dpj7T8SgJktJ"
      },
      "source": [
        "## Split Handler"
      ]
    },
    {
      "cell_type": "code",
      "metadata": {
        "id": "KLIhg4FLYSfV"
      },
      "source": [
        "num_train = 1500\n",
        "num_val = 250\n",
        "num_test = 250"
      ],
      "execution_count": null,
      "outputs": []
    },
    {
      "cell_type": "code",
      "metadata": {
        "id": "641n-QasaFEl"
      },
      "source": [
        "def split_dataset(name, num, size_img, base_class_dir):\n",
        "  for i in range(num):\n",
        "    # balance flip image (~50%)\n",
        "    flip = True if i % 2 == 0 else False\n",
        "\n",
        "    # circle generator\n",
        "    width_box = random.randrange(120, 200)\n",
        "    height_box = random.randrange(120, 200)\n",
        "    rotate = random.randrange(-40, 40)\n",
        "\n",
        "    createCircle(\n",
        "        width_box=width_box,\n",
        "        height_box=height_box,\n",
        "        size_img=size_img,\n",
        "        width_line=10,\n",
        "        rotate=rotate,\n",
        "        path_file=os.path.join(base_class_dir, 'circle', 'circle-{}-{}.png'.format(name,i)),\n",
        "        show=False\n",
        "    )\n",
        "\n",
        "    # kite generator\n",
        "    diag_vert = random.randrange(100, 200)\n",
        "    diag_horz = random.randrange(70, 180)\n",
        "    rotate = random.randrange(-20, 20)\n",
        "\n",
        "    createKite(\n",
        "        diag_horz=diag_horz,\n",
        "        diag_vert=diag_vert,\n",
        "        size_img=size_img,\n",
        "        width_line=10,\n",
        "        rotate=rotate,\n",
        "        path_file=os.path.join(base_class_dir, 'kite', 'kite-{}-{}.png'.format(name,i)),\n",
        "        show=False\n",
        "    )\n",
        "\n",
        "    # parallelogram generator\n",
        "    left_slope = random.randrange(70, 120)\n",
        "    top_horz = random.randrange(70, 120)\n",
        "    angle_deg = random.randrange(30, 80)\n",
        "    rotate = random.randrange(-5, 5)\n",
        "\n",
        "    createParallelogram(\n",
        "        top_horz=top_horz,\n",
        "        left_slope=left_slope,\n",
        "        size_img=size_img,\n",
        "        angle_deg=angle_deg,\n",
        "        flip=flip,\n",
        "        width_line=10,\n",
        "        rotate=rotate,\n",
        "        path_file=os.path.join(base_class_dir, 'parallelogram', 'parallelogram-{}-{}.png'.format(name,i)),\n",
        "        show=False\n",
        "    )\n",
        "\n",
        "    # square generator\n",
        "    length_shape = random.randrange(70, 120)\n",
        "    rotate = random.randrange(-10, 10)\n",
        "\n",
        "    createSquare(\n",
        "        length_shape=length_shape,\n",
        "        size_img=size_img,\n",
        "        width_line=10,\n",
        "        rotate=rotate,\n",
        "        path_file=os.path.join(base_class_dir, 'square', 'square-{}-{}.png'.format(name,i)),\n",
        "        show=False\n",
        "    )\n",
        "\n",
        "    # trapezoid generator\n",
        "    top_horz = random.randrange(70, 120)\n",
        "    bot_horz = random.randrange(top_horz+50, 200)\n",
        "    height_shape = random.randrange(50, 150)\n",
        "    rotate = random.randrange(-5, 5)\n",
        "\n",
        "    createTrapezoid(\n",
        "        top_horz=top_horz,\n",
        "        bot_horz=bot_horz,\n",
        "        height_shape=height_shape,\n",
        "        size_img=size_img,\n",
        "        flip=flip,\n",
        "        width_line=10,\n",
        "        rotate=rotate,\n",
        "        path_file=os.path.join(base_class_dir, 'trapezoid', 'trapezoid-{}-{}.png'.format(name,i)),\n",
        "        show=False\n",
        "    )\n",
        "\n",
        "    # triangle generator\n",
        "    height_shape = random.randrange(70, 180)\n",
        "    width_shape = random.randrange(70, 180)\n",
        "    rotate = random.randrange(-180, 180)\n",
        "\n",
        "    createTriangle(\n",
        "        height_shape=height_shape,\n",
        "        width_shape=width_shape,\n",
        "        size_img=size_img,\n",
        "        width_line=10,\n",
        "        rotate=rotate,\n",
        "        path_file=os.path.join(base_class_dir, 'triangle', 'triangle-{}-{}.png'.format(name,i)),\n",
        "        show=False\n",
        "    )"
      ],
      "execution_count": null,
      "outputs": []
    },
    {
      "cell_type": "code",
      "metadata": {
        "id": "WEuScua8goaT"
      },
      "source": [
        "def len_class_dir(base_dir, label):\n",
        "  for lb in label:\n",
        "    print('\\n{} : train({}), val({}), test({})'.format(\n",
        "        lb,\n",
        "        len(os.listdir(os.path.join(base_dir, 'train', lb))),\n",
        "        len(os.listdir(os.path.join(base_dir, 'val', lb))),\n",
        "        len(os.listdir(os.path.join(base_dir, 'test', lb)))\n",
        "    ))"
      ],
      "execution_count": null,
      "outputs": []
    },
    {
      "cell_type": "markdown",
      "metadata": {
        "id": "3b3p2tEiJtJH"
      },
      "source": [
        "### Train Dataset"
      ]
    },
    {
      "cell_type": "code",
      "metadata": {
        "id": "sEX8IvlmJn0z",
        "colab": {
          "base_uri": "https://localhost:8080/"
        },
        "outputId": "ba59ef74-e7a1-4f91-8ca0-77e6b9107304"
      },
      "source": [
        "split_dataset(\n",
        "    name='train',\n",
        "    num=num_train,\n",
        "    size_img=size_img,\n",
        "    base_class_dir=train_dir\n",
        ")\n",
        "\n",
        "# show result\n",
        "len_class_dir(\n",
        "    base_dir=base_dir,\n",
        "    label=label\n",
        ")"
      ],
      "execution_count": null,
      "outputs": [
        {
          "output_type": "stream",
          "text": [
            "\n",
            "circle : train(1500), val(0), test(0)\n",
            "\n",
            "kite : train(1500), val(0), test(0)\n",
            "\n",
            "parallelogram : train(1500), val(0), test(0)\n",
            "\n",
            "square : train(1500), val(0), test(0)\n",
            "\n",
            "trapezoid : train(1500), val(0), test(0)\n",
            "\n",
            "triangle : train(1500), val(0), test(0)\n"
          ],
          "name": "stdout"
        }
      ]
    },
    {
      "cell_type": "markdown",
      "metadata": {
        "id": "QMqKDROOJwO8"
      },
      "source": [
        "### Validation Dataset"
      ]
    },
    {
      "cell_type": "code",
      "metadata": {
        "id": "l00T7ziQJ0GW",
        "colab": {
          "base_uri": "https://localhost:8080/"
        },
        "outputId": "5761688a-1a95-42d7-d4a6-2ee94840620b"
      },
      "source": [
        "split_dataset(\n",
        "    name='val',\n",
        "    num=num_val,\n",
        "    size_img=size_img,\n",
        "    base_class_dir=val_dir\n",
        ")\n",
        "\n",
        "# show result\n",
        "len_class_dir(\n",
        "    base_dir=base_dir,\n",
        "    label=label\n",
        ")"
      ],
      "execution_count": null,
      "outputs": [
        {
          "output_type": "stream",
          "text": [
            "\n",
            "circle : train(1500), val(250), test(0)\n",
            "\n",
            "kite : train(1500), val(250), test(0)\n",
            "\n",
            "parallelogram : train(1500), val(250), test(0)\n",
            "\n",
            "square : train(1500), val(250), test(0)\n",
            "\n",
            "trapezoid : train(1500), val(250), test(0)\n",
            "\n",
            "triangle : train(1500), val(250), test(0)\n"
          ],
          "name": "stdout"
        }
      ]
    },
    {
      "cell_type": "markdown",
      "metadata": {
        "id": "5WfyoSlKJ0tu"
      },
      "source": [
        "### Test Dataset"
      ]
    },
    {
      "cell_type": "code",
      "metadata": {
        "id": "eVQoc9EGJ3kh",
        "colab": {
          "base_uri": "https://localhost:8080/"
        },
        "outputId": "ed0ecf05-7bf3-4413-f1c2-b1d79a11e7f1"
      },
      "source": [
        "split_dataset(\n",
        "    name='test',\n",
        "    num=num_test,\n",
        "    size_img=size_img,\n",
        "    base_class_dir=test_dir\n",
        ")\n",
        "\n",
        "# show result\n",
        "len_class_dir(\n",
        "    base_dir=base_dir,\n",
        "    label=label\n",
        ")"
      ],
      "execution_count": null,
      "outputs": [
        {
          "output_type": "stream",
          "text": [
            "\n",
            "circle : train(1500), val(250), test(250)\n",
            "\n",
            "kite : train(1500), val(250), test(250)\n",
            "\n",
            "parallelogram : train(1500), val(250), test(250)\n",
            "\n",
            "square : train(1500), val(250), test(250)\n",
            "\n",
            "trapezoid : train(1500), val(250), test(250)\n",
            "\n",
            "triangle : train(1500), val(250), test(250)\n"
          ],
          "name": "stdout"
        }
      ]
    },
    {
      "cell_type": "markdown",
      "metadata": {
        "id": "BrhZtNJJoRfP"
      },
      "source": [
        "## Compress Files"
      ]
    },
    {
      "cell_type": "code",
      "metadata": {
        "id": "Wit4H-SfoeFI"
      },
      "source": [
        "!cd /tmp && zip -r 'six-shapes-dataset.zip' 'six-shapes'"
      ],
      "execution_count": null,
      "outputs": []
    },
    {
      "cell_type": "markdown",
      "metadata": {
        "id": "0N0tpWy2og3V"
      },
      "source": [
        "## Download"
      ]
    },
    {
      "cell_type": "code",
      "metadata": {
        "id": "irm4pZ_6ojBJ",
        "colab": {
          "base_uri": "https://localhost:8080/",
          "height": 17
        },
        "outputId": "83ec2985-17f9-429f-b5ec-217e9b32f44c"
      },
      "source": [
        "files.download('/tmp/six-shapes-dataset.zip')"
      ],
      "execution_count": null,
      "outputs": [
        {
          "output_type": "display_data",
          "data": {
            "application/javascript": [
              "\n",
              "    async function download(id, filename, size) {\n",
              "      if (!google.colab.kernel.accessAllowed) {\n",
              "        return;\n",
              "      }\n",
              "      const div = document.createElement('div');\n",
              "      const label = document.createElement('label');\n",
              "      label.textContent = `Downloading \"${filename}\": `;\n",
              "      div.appendChild(label);\n",
              "      const progress = document.createElement('progress');\n",
              "      progress.max = size;\n",
              "      div.appendChild(progress);\n",
              "      document.body.appendChild(div);\n",
              "\n",
              "      const buffers = [];\n",
              "      let downloaded = 0;\n",
              "\n",
              "      const channel = await google.colab.kernel.comms.open(id);\n",
              "      // Send a message to notify the kernel that we're ready.\n",
              "      channel.send({})\n",
              "\n",
              "      for await (const message of channel.messages) {\n",
              "        // Send a message to notify the kernel that we're ready.\n",
              "        channel.send({})\n",
              "        if (message.buffers) {\n",
              "          for (const buffer of message.buffers) {\n",
              "            buffers.push(buffer);\n",
              "            downloaded += buffer.byteLength;\n",
              "            progress.value = downloaded;\n",
              "          }\n",
              "        }\n",
              "      }\n",
              "      const blob = new Blob(buffers, {type: 'application/binary'});\n",
              "      const a = document.createElement('a');\n",
              "      a.href = window.URL.createObjectURL(blob);\n",
              "      a.download = filename;\n",
              "      div.appendChild(a);\n",
              "      a.click();\n",
              "      div.remove();\n",
              "    }\n",
              "  "
            ],
            "text/plain": [
              "<IPython.core.display.Javascript object>"
            ]
          },
          "metadata": {}
        },
        {
          "output_type": "display_data",
          "data": {
            "application/javascript": [
              "download(\"download_242b099d-b1d8-45b3-8083-cde978279248\", \"six-shapes-dataset.zip\", 16927756)"
            ],
            "text/plain": [
              "<IPython.core.display.Javascript object>"
            ]
          },
          "metadata": {}
        }
      ]
    }
  ]
}